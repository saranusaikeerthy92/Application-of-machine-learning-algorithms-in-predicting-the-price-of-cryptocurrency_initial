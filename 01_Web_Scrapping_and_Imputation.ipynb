{
  "nbformat": 4,
  "nbformat_minor": 0,
  "metadata": {
    "colab": {
      "name": "CS01.01 Web Scrapping and Imputation.ipynb",
      "provenance": [],
      "collapsed_sections": []
    },
    "kernelspec": {
      "display_name": "Python 3",
      "name": "python3"
    },
    "language_info": {
      "name": "python"
    }
  },
  "cells": [
    {
      "cell_type": "markdown",
      "metadata": {
        "id": "UO9sF7YELEBq"
      },
      "source": [
        "## Install Libraries & Master Functions"
      ]
    },
    {
      "cell_type": "code",
      "metadata": {
        "id": "RLSH-9YaOzRm"
      },
      "source": [
        "!pip install Quandl\n",
        "!pip install investpy"
      ],
      "execution_count": null,
      "outputs": []
    },
    {
      "cell_type": "code",
      "metadata": {
        "id": "q54QaKPcM6P6",
        "colab": {
          "base_uri": "https://localhost:8080/"
        },
        "outputId": "f0b72c68-b9b6-415e-e9a1-70a16ffe13d1"
      },
      "source": [
        "import requests\n",
        "from bs4 import BeautifulSoup\n",
        "import pandas as pd\n",
        "from tqdm import tqdm\n",
        "import numpy as np\n",
        "import missingno as msno\n",
        "import matplotlib.pyplot as plt\n",
        "import warnings\n",
        "warnings.filterwarnings(\"ignore\")\n",
        "import quandl\n",
        "import investpy"
      ],
      "execution_count": null,
      "outputs": [
        {
          "output_type": "stream",
          "name": "stdout",
          "text": [
            "Requirement already satisfied: Quandl in /usr/local/lib/python3.7/dist-packages (3.6.1)\n",
            "Requirement already satisfied: more-itertools in /usr/local/lib/python3.7/dist-packages (from Quandl) (8.9.0)\n",
            "Requirement already satisfied: pandas>=0.14 in /usr/local/lib/python3.7/dist-packages (from Quandl) (1.1.5)\n",
            "Requirement already satisfied: inflection>=0.3.1 in /usr/local/lib/python3.7/dist-packages (from Quandl) (0.5.1)\n",
            "Requirement already satisfied: six in /usr/local/lib/python3.7/dist-packages (from Quandl) (1.15.0)\n",
            "Requirement already satisfied: numpy>=1.8 in /usr/local/lib/python3.7/dist-packages (from Quandl) (1.19.5)\n",
            "Requirement already satisfied: python-dateutil in /usr/local/lib/python3.7/dist-packages (from Quandl) (2.8.2)\n",
            "Requirement already satisfied: requests>=2.7.0 in /usr/local/lib/python3.7/dist-packages (from Quandl) (2.23.0)\n",
            "Requirement already satisfied: pytz>=2017.2 in /usr/local/lib/python3.7/dist-packages (from pandas>=0.14->Quandl) (2021.1)\n",
            "Requirement already satisfied: idna<3,>=2.5 in /usr/local/lib/python3.7/dist-packages (from requests>=2.7.0->Quandl) (2.10)\n",
            "Requirement already satisfied: certifi>=2017.4.17 in /usr/local/lib/python3.7/dist-packages (from requests>=2.7.0->Quandl) (2021.5.30)\n",
            "Requirement already satisfied: chardet<4,>=3.0.2 in /usr/local/lib/python3.7/dist-packages (from requests>=2.7.0->Quandl) (3.0.4)\n",
            "Requirement already satisfied: urllib3!=1.25.0,!=1.25.1,<1.26,>=1.21.1 in /usr/local/lib/python3.7/dist-packages (from requests>=2.7.0->Quandl) (1.24.3)\n",
            "Requirement already satisfied: investpy in /usr/local/lib/python3.7/dist-packages (1.0.7)\n",
            "Requirement already satisfied: requests>=2.22.0 in /usr/local/lib/python3.7/dist-packages (from investpy) (2.23.0)\n",
            "Requirement already satisfied: pandas>=0.25.1 in /usr/local/lib/python3.7/dist-packages (from investpy) (1.1.5)\n",
            "Requirement already satisfied: Unidecode>=1.1.1 in /usr/local/lib/python3.7/dist-packages (from investpy) (1.3.2)\n",
            "Requirement already satisfied: pytz>=2019.3 in /usr/local/lib/python3.7/dist-packages (from investpy) (2021.1)\n",
            "Requirement already satisfied: lxml>=4.4.1 in /usr/local/lib/python3.7/dist-packages (from investpy) (4.6.3)\n",
            "Requirement already satisfied: setuptools>=41.2.0 in /usr/local/lib/python3.7/dist-packages (from investpy) (57.4.0)\n",
            "Requirement already satisfied: numpy>=1.17.2 in /usr/local/lib/python3.7/dist-packages (from investpy) (1.19.5)\n",
            "Requirement already satisfied: python-dateutil>=2.7.3 in /usr/local/lib/python3.7/dist-packages (from pandas>=0.25.1->investpy) (2.8.2)\n",
            "Requirement already satisfied: six>=1.5 in /usr/local/lib/python3.7/dist-packages (from python-dateutil>=2.7.3->pandas>=0.25.1->investpy) (1.15.0)\n",
            "Requirement already satisfied: chardet<4,>=3.0.2 in /usr/local/lib/python3.7/dist-packages (from requests>=2.22.0->investpy) (3.0.4)\n",
            "Requirement already satisfied: idna<3,>=2.5 in /usr/local/lib/python3.7/dist-packages (from requests>=2.22.0->investpy) (2.10)\n",
            "Requirement already satisfied: urllib3!=1.25.0,!=1.25.1,<1.26,>=1.21.1 in /usr/local/lib/python3.7/dist-packages (from requests>=2.22.0->investpy) (1.24.3)\n",
            "Requirement already satisfied: certifi>=2017.4.17 in /usr/local/lib/python3.7/dist-packages (from requests>=2.22.0->investpy) (2021.5.30)\n"
          ]
        }
      ]
    },
    {
      "cell_type": "code",
      "metadata": {
        "id": "seApDN1Vh5FK"
      },
      "source": [
        "URL_array  = set()\n",
        "def link2df(URL,col_name,join_df,join=True,check_column=True,check_URL = True,clear_URL_array=False,show_details=False):\n",
        "    '''This function scraps the given link and returns dataframe\n",
        "    __________\n",
        "    Parameters:\n",
        "        URL(string): URL to be scrapped from bitcoin website\n",
        "        col_name(string): column name for dataframe\n",
        "        join_df(variable)= dataframe withwhich output dataframe will be left joined on Date\n",
        "        join(boolean)= iF True,join, else don't join\n",
        "        check_column(boolean)= check if column name already exists\n",
        "        check_URL(boolean)= check if URL is already processed\n",
        "        clear_URL_array(boolean)= if true URL_processed array will be cleared\n",
        "        show_details(boolean)= various details wil be printed such as scrapping first and last details, df head & df tail     \n",
        "        '''\n",
        "        \n",
        "    print(f'processing {col_name}')\n",
        "\n",
        "    #clear URL append array\n",
        "    if clear_URL_array==True:\n",
        "        URL_array.clear()\n",
        "\n",
        "    #set join parameters if false\n",
        "    if join == False:\n",
        "        join_df = None\n",
        "        check_column=False\n",
        "\n",
        "    #process column name by making it lowercase and replacing spaces,commas, full stops\n",
        "    col_name = col_name.lower().replace(',','').replace(\" \", \"_\").replace(\".\", \"_\")\n",
        "\n",
        "    #col_name validation if exists already\n",
        "    if check_column==True and col_name in list(join_df.columns):\n",
        "        print(f'column {col_name} already esists in dataframe, stopped here')\n",
        "        return join_df\n",
        "\n",
        "    #URL validation if processes already\n",
        "    elif check_URL==True and URL in list(URL_array):\n",
        "        print(f'{URL} is already processed, stopped here')\n",
        "        return join_df \n",
        "\n",
        "    #web scrapping\n",
        "    page = requests.get(URL)\n",
        "    soup = page.content\n",
        "    soup = str(soup)\n",
        "    scraped_output = (soup.split('[[')[1]).split('{labels')[0][0:-2]\n",
        "    if show_details == True:\n",
        "        print('head')\n",
        "        print({scraped_output[0:30]})\n",
        "        print('tail')\n",
        "        print({scraped_output[-30:]})\n",
        "\n",
        "    processed_str = scraped_output.replace('new Date(','')\n",
        "    processed_str = processed_str.replace(')','')\n",
        "    processed_str = processed_str.replace('[','')\n",
        "    processed_str = processed_str.replace(']','')\n",
        "    processed_str = processed_str.replace('\"','')\n",
        "\n",
        "    processed_str_list = processed_str.split(',')\n",
        "    date_list,data_list = processed_str_list[::2],processed_str_list[1::2]\n",
        "\n",
        "    #validate column lengths\n",
        "    if len(date_list)!=len(data_list):\n",
        "        print(f'date & data length:{len(date_list),len(data_list),len(date_list)==len(data_list)}')\n",
        "\n",
        "    #convert list data to a dataframe\n",
        "    if join == False:\n",
        "        df = pd.DataFrame()\n",
        "        df['Date'] = pd.to_datetime(date_list)\n",
        "        df[col_name] = data_list\n",
        "        URL_array.add(URL)\n",
        "        if show_details == True:\n",
        "            print('*'*100)\n",
        "            print('df head')\n",
        "            print(df.head(1))\n",
        "            print('*'*100)\n",
        "            print('df tail')\n",
        "            print(df.tail(1))\n",
        "            print('*'*100)\n",
        "            print(f'df shape{df.shape}')\n",
        "            print('='*100)\n",
        "            \n",
        "        return df\n",
        "\n",
        "    elif col_name not in list(join_df.columns) and join == True:\n",
        "        df = pd.DataFrame()\n",
        "        df['Date'] = pd.to_datetime(date_list)\n",
        "        df[col_name] = data_list\n",
        "        join_df = pd.merge(join_df,df,on=['Date'],how='left')\n",
        "        URL_array.add(URL)\n",
        "        if show_details == True:\n",
        "            print('*'*100)\n",
        "            print('df head')\n",
        "            print(df.head(1))\n",
        "            print('*'*100)\n",
        "            print('df tail')\n",
        "            print(df.tail(1))\n",
        "            print('*'*100)\n",
        "            print(f'output df shape= {df.shape},joined_df shape = {join_df.shape}')\n",
        "            print('='*100)\n",
        "            print(f'Number of duplicate columns in dataframe {df.columns.duplicated().sum()}')\n",
        "            print('='*100)\n",
        "    \n",
        "        return join_df"
      ],
      "execution_count": null,
      "outputs": []
    },
    {
      "cell_type": "markdown",
      "metadata": {
        "id": "xImWGx-JG634"
      },
      "source": [
        "## Web scraping"
      ]
    },
    {
      "cell_type": "markdown",
      "metadata": {
        "id": "pkmgIUOLpzM6"
      },
      "source": [
        "###01.Price"
      ]
    },
    {
      "cell_type": "code",
      "metadata": {
        "colab": {
          "base_uri": "https://localhost:8080/",
          "height": 417
        },
        "id": "v2HTzrhUpcoH",
        "outputId": "53593f4c-00ae-4d4d-9f9b-2edafe437aa4"
      },
      "source": [
        "final_df = investpy.get_crypto_historical_data(crypto='bitcoin',from_date='01/01/2013',to_date='19/09/2021')\n",
        "final_df = final_df.reset_index()\n",
        "final_df.drop(['Currency','Volume'],inplace=True,axis=1)\n",
        "final_df.columns = ['Date','opening_price','highest_price','lowest_price','closing_price']\n",
        "final_df"
      ],
      "execution_count": null,
      "outputs": [
        {
          "output_type": "execute_result",
          "data": {
            "text/html": [
              "<div>\n",
              "<style scoped>\n",
              "    .dataframe tbody tr th:only-of-type {\n",
              "        vertical-align: middle;\n",
              "    }\n",
              "\n",
              "    .dataframe tbody tr th {\n",
              "        vertical-align: top;\n",
              "    }\n",
              "\n",
              "    .dataframe thead th {\n",
              "        text-align: right;\n",
              "    }\n",
              "</style>\n",
              "<table border=\"1\" class=\"dataframe\">\n",
              "  <thead>\n",
              "    <tr style=\"text-align: right;\">\n",
              "      <th></th>\n",
              "      <th>Date</th>\n",
              "      <th>opening_price</th>\n",
              "      <th>highest_price</th>\n",
              "      <th>lowest_price</th>\n",
              "      <th>closing_price</th>\n",
              "    </tr>\n",
              "  </thead>\n",
              "  <tbody>\n",
              "    <tr>\n",
              "      <th>0</th>\n",
              "      <td>2013-01-01</td>\n",
              "      <td>13.5</td>\n",
              "      <td>13.6</td>\n",
              "      <td>13.2</td>\n",
              "      <td>13.3</td>\n",
              "    </tr>\n",
              "    <tr>\n",
              "      <th>1</th>\n",
              "      <td>2013-01-02</td>\n",
              "      <td>13.3</td>\n",
              "      <td>13.4</td>\n",
              "      <td>13.2</td>\n",
              "      <td>13.3</td>\n",
              "    </tr>\n",
              "    <tr>\n",
              "      <th>2</th>\n",
              "      <td>2013-01-03</td>\n",
              "      <td>13.3</td>\n",
              "      <td>13.5</td>\n",
              "      <td>13.3</td>\n",
              "      <td>13.4</td>\n",
              "    </tr>\n",
              "    <tr>\n",
              "      <th>3</th>\n",
              "      <td>2013-01-04</td>\n",
              "      <td>13.4</td>\n",
              "      <td>13.5</td>\n",
              "      <td>13.3</td>\n",
              "      <td>13.5</td>\n",
              "    </tr>\n",
              "    <tr>\n",
              "      <th>4</th>\n",
              "      <td>2013-01-05</td>\n",
              "      <td>13.5</td>\n",
              "      <td>13.6</td>\n",
              "      <td>13.3</td>\n",
              "      <td>13.4</td>\n",
              "    </tr>\n",
              "    <tr>\n",
              "      <th>...</th>\n",
              "      <td>...</td>\n",
              "      <td>...</td>\n",
              "      <td>...</td>\n",
              "      <td>...</td>\n",
              "      <td>...</td>\n",
              "    </tr>\n",
              "    <tr>\n",
              "      <th>3179</th>\n",
              "      <td>2021-09-15</td>\n",
              "      <td>47070.8</td>\n",
              "      <td>48436.5</td>\n",
              "      <td>46743.9</td>\n",
              "      <td>48130.6</td>\n",
              "    </tr>\n",
              "    <tr>\n",
              "      <th>3180</th>\n",
              "      <td>2021-09-16</td>\n",
              "      <td>48132.3</td>\n",
              "      <td>48480.6</td>\n",
              "      <td>47040.3</td>\n",
              "      <td>47748.0</td>\n",
              "    </tr>\n",
              "    <tr>\n",
              "      <th>3181</th>\n",
              "      <td>2021-09-17</td>\n",
              "      <td>47748.2</td>\n",
              "      <td>48155.9</td>\n",
              "      <td>46788.8</td>\n",
              "      <td>47282.8</td>\n",
              "    </tr>\n",
              "    <tr>\n",
              "      <th>3182</th>\n",
              "      <td>2021-09-18</td>\n",
              "      <td>47283.9</td>\n",
              "      <td>48761.0</td>\n",
              "      <td>47070.5</td>\n",
              "      <td>48306.7</td>\n",
              "    </tr>\n",
              "    <tr>\n",
              "      <th>3183</th>\n",
              "      <td>2021-09-19</td>\n",
              "      <td>48299.9</td>\n",
              "      <td>48341.9</td>\n",
              "      <td>47114.0</td>\n",
              "      <td>47328.0</td>\n",
              "    </tr>\n",
              "  </tbody>\n",
              "</table>\n",
              "<p>3184 rows × 5 columns</p>\n",
              "</div>"
            ],
            "text/plain": [
              "           Date  opening_price  highest_price  lowest_price  closing_price\n",
              "0    2013-01-01           13.5           13.6          13.2           13.3\n",
              "1    2013-01-02           13.3           13.4          13.2           13.3\n",
              "2    2013-01-03           13.3           13.5          13.3           13.4\n",
              "3    2013-01-04           13.4           13.5          13.3           13.5\n",
              "4    2013-01-05           13.5           13.6          13.3           13.4\n",
              "...         ...            ...            ...           ...            ...\n",
              "3179 2021-09-15        47070.8        48436.5       46743.9        48130.6\n",
              "3180 2021-09-16        48132.3        48480.6       47040.3        47748.0\n",
              "3181 2021-09-17        47748.2        48155.9       46788.8        47282.8\n",
              "3182 2021-09-18        47283.9        48761.0       47070.5        48306.7\n",
              "3183 2021-09-19        48299.9        48341.9       47114.0        47328.0\n",
              "\n",
              "[3184 rows x 5 columns]"
            ]
          },
          "metadata": {},
          "execution_count": 82
        }
      ]
    },
    {
      "cell_type": "markdown",
      "metadata": {
        "id": "9Sh5oMOXNHyp"
      },
      "source": [
        "###02.Number of transactions in blockchain per day"
      ]
    },
    {
      "cell_type": "code",
      "metadata": {
        "colab": {
          "base_uri": "https://localhost:8080/"
        },
        "id": "msMg9kVOfXyj",
        "outputId": "a07331af-6627-4333-f837-f26dfdd2e53d"
      },
      "source": [
        "final_df = link2df('https://bitinfocharts.com/comparison/bitcoin-transactions.html',\n",
        "                   'transactions in blockchain',join_df=final_df,join=True)"
      ],
      "execution_count": null,
      "outputs": [
        {
          "output_type": "stream",
          "name": "stdout",
          "text": [
            "processing transactions in blockchain\n"
          ]
        }
      ]
    },
    {
      "cell_type": "markdown",
      "metadata": {
        "id": "TbCTHNZUfvY2"
      },
      "source": [
        "###03.Average block size"
      ]
    },
    {
      "cell_type": "code",
      "metadata": {
        "colab": {
          "base_uri": "https://localhost:8080/"
        },
        "id": "0kVnztU7fvY2",
        "outputId": "76ebcb09-49a0-4afe-c9f4-c908b40acc27"
      },
      "source": [
        "final_df = link2df('https://bitinfocharts.com/comparison/size-btc.html',\n",
        "                   'avg block size',join_df=final_df,join=True)"
      ],
      "execution_count": null,
      "outputs": [
        {
          "output_type": "stream",
          "name": "stdout",
          "text": [
            "processing avg block size\n"
          ]
        }
      ]
    },
    {
      "cell_type": "markdown",
      "metadata": {
        "id": "EpgEBoWsgRrK"
      },
      "source": [
        "###04.Number of unique (from) addresses per day"
      ]
    },
    {
      "cell_type": "code",
      "metadata": {
        "colab": {
          "base_uri": "https://localhost:8080/"
        },
        "id": "1z2HazodheAD",
        "outputId": "ec2a3649-1670-465f-dd77-72b0f444796a"
      },
      "source": [
        "final_df = link2df('https://bitinfocharts.com/comparison/sentbyaddress-btc.html',\n",
        "                   'sent by adress',join_df=final_df,join=True)"
      ],
      "execution_count": null,
      "outputs": [
        {
          "output_type": "stream",
          "name": "stdout",
          "text": [
            "processing sent by adress\n"
          ]
        }
      ]
    },
    {
      "cell_type": "markdown",
      "metadata": {
        "id": "SVxMx_LfgUIz"
      },
      "source": [
        "###05.Average mining difficulty per day"
      ]
    },
    {
      "cell_type": "code",
      "metadata": {
        "colab": {
          "base_uri": "https://localhost:8080/"
        },
        "id": "LfIBsgZBiSGY",
        "outputId": "62236111-6f59-4e32-d27b-48aa5ca7ee20"
      },
      "source": [
        "final_df = link2df('https://bitinfocharts.com/comparison/bitcoin-difficulty.html',\n",
        "                   'avg mining difficulty',join_df=final_df,join=True)"
      ],
      "execution_count": null,
      "outputs": [
        {
          "output_type": "stream",
          "name": "stdout",
          "text": [
            "processing avg mining difficulty\n"
          ]
        }
      ]
    },
    {
      "cell_type": "markdown",
      "metadata": {
        "id": "FzAIhq3AgUUB"
      },
      "source": [
        "###06.Average hashrate (hash/s) per day"
      ]
    },
    {
      "cell_type": "code",
      "metadata": {
        "colab": {
          "base_uri": "https://localhost:8080/"
        },
        "id": "05YCdTnujC8G",
        "outputId": "ce60ea25-4b77-469b-acda-b7f419a13e08"
      },
      "source": [
        "final_df = link2df('https://bitinfocharts.com/comparison/bitcoin-hashrate.html',\n",
        "                   'avg hashrate',join_df=final_df,join=True)"
      ],
      "execution_count": null,
      "outputs": [
        {
          "output_type": "stream",
          "name": "stdout",
          "text": [
            "processing avg hashrate\n"
          ]
        }
      ]
    },
    {
      "cell_type": "markdown",
      "metadata": {
        "id": "mYpmznZUgUeg"
      },
      "source": [
        "###07.Mining Profitability USD/Day for 1 Hash/s"
      ]
    },
    {
      "cell_type": "code",
      "metadata": {
        "colab": {
          "base_uri": "https://localhost:8080/"
        },
        "id": "gOssaViFjwjD",
        "outputId": "9e5637e3-98bd-42d1-db66-b5e88d514e73"
      },
      "source": [
        "final_df = link2df('https://bitinfocharts.com/comparison/bitcoin-mining_profitability.html',\n",
        "                   'mining profitability',join_df=final_df,join=True)"
      ],
      "execution_count": null,
      "outputs": [
        {
          "output_type": "stream",
          "name": "stdout",
          "text": [
            "processing mining profitability\n"
          ]
        }
      ]
    },
    {
      "cell_type": "markdown",
      "metadata": {
        "id": "YPIYgLuLgUo3"
      },
      "source": [
        "###08.Sent coins in USD per day"
      ]
    },
    {
      "cell_type": "code",
      "metadata": {
        "colab": {
          "base_uri": "https://localhost:8080/"
        },
        "id": "D2gIU799j71P",
        "outputId": "43b344f9-9f2e-46c0-a0cb-a051472c0f6e"
      },
      "source": [
        "final_df = link2df('https://bitinfocharts.com/comparison/sentinusd-btc.html',\n",
        "                   'Sent coins in USD',join_df=final_df,join=True)"
      ],
      "execution_count": null,
      "outputs": [
        {
          "output_type": "stream",
          "name": "stdout",
          "text": [
            "processing Sent coins in USD\n"
          ]
        }
      ]
    },
    {
      "cell_type": "markdown",
      "metadata": {
        "id": "LdUp5yWpgUzd"
      },
      "source": [
        "###09.Average transaction fee, USD"
      ]
    },
    {
      "cell_type": "code",
      "metadata": {
        "colab": {
          "base_uri": "https://localhost:8080/"
        },
        "id": "ZqZicNbij8-J",
        "outputId": "249a5dc0-1dfe-44be-e196-362b765b7f01"
      },
      "source": [
        "final_df = link2df('https://bitinfocharts.com/comparison/bitcoin-transactionfees.html',\n",
        "                   'avg transaction fees',join_df=final_df,join=True)"
      ],
      "execution_count": null,
      "outputs": [
        {
          "output_type": "stream",
          "name": "stdout",
          "text": [
            "processing avg transaction fees\n"
          ]
        }
      ]
    },
    {
      "cell_type": "markdown",
      "metadata": {
        "id": "svXaogxhgVKv"
      },
      "source": [
        "###10.Median transaction fee, USD"
      ]
    },
    {
      "cell_type": "code",
      "metadata": {
        "colab": {
          "base_uri": "https://localhost:8080/"
        },
        "id": "NtWLXoQDj-Fj",
        "outputId": "9a0c7eae-cdb4-4936-b1f5-dc086f1f4d15"
      },
      "source": [
        "final_df = link2df('https://bitinfocharts.com/comparison/bitcoin-median_transaction_fee.html',\n",
        "                   'median transaction fees',join_df=final_df,join=True)"
      ],
      "execution_count": null,
      "outputs": [
        {
          "output_type": "stream",
          "name": "stdout",
          "text": [
            "processing median transaction fees\n"
          ]
        }
      ]
    },
    {
      "cell_type": "markdown",
      "metadata": {
        "id": "uLaVuczSgVdO"
      },
      "source": [
        "###11.Average block time (minutes)"
      ]
    },
    {
      "cell_type": "code",
      "metadata": {
        "colab": {
          "base_uri": "https://localhost:8080/"
        },
        "id": "7b2JeWQ2j_IL",
        "outputId": "15876596-d624-4a9f-a8fd-3fcda6394637"
      },
      "source": [
        "final_df = link2df('https://bitinfocharts.com/comparison/bitcoin-confirmationtime.html',\n",
        "                   'avg block time',join_df=final_df,join=True)"
      ],
      "execution_count": null,
      "outputs": [
        {
          "output_type": "stream",
          "name": "stdout",
          "text": [
            "processing avg block time\n"
          ]
        }
      ]
    },
    {
      "cell_type": "markdown",
      "metadata": {
        "id": "kD0-UTOTgWDO"
      },
      "source": [
        "###12.Avg. Transaction Value, USD"
      ]
    },
    {
      "cell_type": "code",
      "metadata": {
        "colab": {
          "base_uri": "https://localhost:8080/"
        },
        "id": "1hFZa2l4kBVo",
        "outputId": "b8c86f57-96b4-4b26-b078-60a9e8f4276c"
      },
      "source": [
        "final_df = link2df('https://bitinfocharts.com/comparison/transactionvalue-btc.html',\n",
        "                   'avg transaction value',join_df=final_df,join=True)"
      ],
      "execution_count": null,
      "outputs": [
        {
          "output_type": "stream",
          "name": "stdout",
          "text": [
            "processing avg transaction value\n"
          ]
        }
      ]
    },
    {
      "cell_type": "markdown",
      "metadata": {
        "id": "SbKnR8TCgWPV"
      },
      "source": [
        "###13.Median Transaction Value, USD"
      ]
    },
    {
      "cell_type": "code",
      "metadata": {
        "colab": {
          "base_uri": "https://localhost:8080/"
        },
        "id": "x2l5UZx4kCa2",
        "outputId": "6e50f74f-67c9-467b-e578-9826b0bb27d2"
      },
      "source": [
        "final_df = link2df('https://bitinfocharts.com/comparison/mediantransactionvalue-btc.html',\n",
        "                   'median transaction value',join_df=final_df,join=True)"
      ],
      "execution_count": null,
      "outputs": [
        {
          "output_type": "stream",
          "name": "stdout",
          "text": [
            "processing median transaction value\n"
          ]
        }
      ]
    },
    {
      "cell_type": "markdown",
      "metadata": {
        "id": "uR4puFiagSAc"
      },
      "source": [
        "###14.Tweets per day"
      ]
    },
    {
      "cell_type": "code",
      "metadata": {
        "colab": {
          "base_uri": "https://localhost:8080/"
        },
        "id": "NASOY2WYkDlz",
        "outputId": "98be5d76-5bb7-4082-978e-bf1464d05faf"
      },
      "source": [
        "final_df = link2df('https://bitinfocharts.com/comparison/tweets-btc.html',\n",
        "                   'tweets',join_df=final_df,join=True)"
      ],
      "execution_count": null,
      "outputs": [
        {
          "output_type": "stream",
          "name": "stdout",
          "text": [
            "processing tweets\n"
          ]
        }
      ]
    },
    {
      "cell_type": "markdown",
      "metadata": {
        "id": "jw0uHiQLhJ5X"
      },
      "source": [
        "###15.Google Trends to \"Bitcoin\" @ 2012-01-01"
      ]
    },
    {
      "cell_type": "code",
      "metadata": {
        "colab": {
          "base_uri": "https://localhost:8080/"
        },
        "id": "OGzb7zhAkEvG",
        "outputId": "19846d7c-cd3a-45f7-f94b-b315760a54c8"
      },
      "source": [
        "final_df = link2df('https://bitinfocharts.com/comparison/google_trends-btc.html',\n",
        "                   'google trends',join_df=final_df,join=True)"
      ],
      "execution_count": null,
      "outputs": [
        {
          "output_type": "stream",
          "name": "stdout",
          "text": [
            "processing google trends\n"
          ]
        }
      ]
    },
    {
      "cell_type": "markdown",
      "metadata": {
        "id": "3BhR3MtJhKCJ"
      },
      "source": [
        "###16.Number of unique (from or to) addresses per day"
      ]
    },
    {
      "cell_type": "code",
      "metadata": {
        "colab": {
          "base_uri": "https://localhost:8080/"
        },
        "id": "9vuKWZlIkGBq",
        "outputId": "2829b88c-5cd1-435c-d774-8d0484b11320"
      },
      "source": [
        "final_df = link2df('https://bitinfocharts.com/comparison/activeaddresses-btc.html',\n",
        "                   'active addresses',join_df=final_df,join=True)"
      ],
      "execution_count": null,
      "outputs": [
        {
          "output_type": "stream",
          "name": "stdout",
          "text": [
            "processing active addresses\n"
          ]
        }
      ]
    },
    {
      "cell_type": "markdown",
      "metadata": {
        "id": "QHWqO-MhhKKY"
      },
      "source": [
        "###17.Top 100 Richest Addresses to Total coins %"
      ]
    },
    {
      "cell_type": "code",
      "metadata": {
        "colab": {
          "base_uri": "https://localhost:8080/"
        },
        "id": "GaTZi3ATkHXf",
        "outputId": "3fca3bbf-d15d-4249-e33a-3b0615b14fe3"
      },
      "source": [
        "final_df = link2df('https://bitinfocharts.com/comparison/top100cap-btc.html',\n",
        "                   'top100 to total percentage',join_df=final_df,join=True)"
      ],
      "execution_count": null,
      "outputs": [
        {
          "output_type": "stream",
          "name": "stdout",
          "text": [
            "processing top100 to total percentage\n"
          ]
        }
      ]
    },
    {
      "cell_type": "markdown",
      "metadata": {
        "id": "UHUwHqs1hM6f"
      },
      "source": [
        "###18.Average Fee Percentage in Total Block Reward"
      ]
    },
    {
      "cell_type": "code",
      "metadata": {
        "colab": {
          "base_uri": "https://localhost:8080/"
        },
        "id": "msPsBpsWkIkX",
        "outputId": "a1f05194-35ec-4c34-89b8-3bb22bcdb96f"
      },
      "source": [
        "final_df = link2df('https://bitinfocharts.com/comparison/fee_to_reward-btc.html',\n",
        "                   'avg fee to reward',join_df=final_df,join=True)"
      ],
      "execution_count": null,
      "outputs": [
        {
          "output_type": "stream",
          "name": "stdout",
          "text": [
            "processing avg fee to reward\n"
          ]
        }
      ]
    },
    {
      "cell_type": "markdown",
      "metadata": {
        "id": "3IU8clkwcxde"
      },
      "source": [
        "###19.Total number of bitcoins in circulation"
      ]
    },
    {
      "cell_type": "code",
      "metadata": {
        "id": "UeRxrEyVc3OZ"
      },
      "source": [
        "btc_in_circulation_df = quandl.get(\"BCHAIN/TOTBC\",authtoken='9ztFCcK4_e1xGo_gjzK7')\n",
        "btc_in_circulation_df = btc_in_circulation_df.rename(columns={'Value': 'number_of_coins_in_circulation'})"
      ],
      "execution_count": null,
      "outputs": []
    },
    {
      "cell_type": "markdown",
      "metadata": {
        "id": "Omvvj5XA0tcP"
      },
      "source": [
        "###20.Bitcoin Miners Revenue\n",
        "Total value of coinbase block rewards and transaction fees paid to miners."
      ]
    },
    {
      "cell_type": "code",
      "metadata": {
        "id": "XPKeT9xf0xxv"
      },
      "source": [
        "miners_revenue_df = quandl.get(\"BCHAIN/MIREV\",authtoken='9ztFCcK4_e1xGo_gjzK7')\n",
        "miners_revenue_df = miners_revenue_df.rename(columns={'Value': 'miner_revenue'})"
      ],
      "execution_count": null,
      "outputs": []
    },
    {
      "cell_type": "markdown",
      "metadata": {
        "id": "9AcKckrE8xLW"
      },
      "source": [
        "###22.Additional Features"
      ]
    },
    {
      "cell_type": "code",
      "metadata": {
        "colab": {
          "base_uri": "https://localhost:8080/",
          "height": 605
        },
        "id": "4vfL9M4u6j6p",
        "outputId": "0bf7dca2-9678-4a78-cf48-9cfa82f67808"
      },
      "source": [
        "final_df"
      ],
      "execution_count": null,
      "outputs": [
        {
          "output_type": "execute_result",
          "data": {
            "text/html": [
              "<div>\n",
              "<style scoped>\n",
              "    .dataframe tbody tr th:only-of-type {\n",
              "        vertical-align: middle;\n",
              "    }\n",
              "\n",
              "    .dataframe tbody tr th {\n",
              "        vertical-align: top;\n",
              "    }\n",
              "\n",
              "    .dataframe thead th {\n",
              "        text-align: right;\n",
              "    }\n",
              "</style>\n",
              "<table border=\"1\" class=\"dataframe\">\n",
              "  <thead>\n",
              "    <tr style=\"text-align: right;\">\n",
              "      <th></th>\n",
              "      <th>Date</th>\n",
              "      <th>opening_price</th>\n",
              "      <th>highest_price</th>\n",
              "      <th>lowest_price</th>\n",
              "      <th>closing_price</th>\n",
              "      <th>transactions_in_blockchain</th>\n",
              "      <th>avg_block_size</th>\n",
              "      <th>sent_by_adress</th>\n",
              "      <th>avg_mining_difficulty</th>\n",
              "      <th>avg_hashrate</th>\n",
              "      <th>mining_profitability</th>\n",
              "      <th>sent_coins_in_usd</th>\n",
              "      <th>avg_transaction_fees</th>\n",
              "      <th>median_transaction_fees</th>\n",
              "      <th>avg_block_time</th>\n",
              "      <th>avg_transaction_value</th>\n",
              "      <th>median_transaction_value</th>\n",
              "      <th>tweets</th>\n",
              "      <th>google_trends</th>\n",
              "      <th>active_addresses</th>\n",
              "      <th>top100_to_total_percentage</th>\n",
              "      <th>avg_fee_to_reward</th>\n",
              "    </tr>\n",
              "  </thead>\n",
              "  <tbody>\n",
              "    <tr>\n",
              "      <th>0</th>\n",
              "      <td>2013-01-01</td>\n",
              "      <td>13.5</td>\n",
              "      <td>13.6</td>\n",
              "      <td>13.2</td>\n",
              "      <td>13.3</td>\n",
              "      <td>31734</td>\n",
              "      <td>89033</td>\n",
              "      <td>26174</td>\n",
              "      <td>2979637</td>\n",
              "      <td>24331539528899</td>\n",
              "      <td>2246</td>\n",
              "      <td>18839472</td>\n",
              "      <td>0.0107</td>\n",
              "      <td>0.0067</td>\n",
              "      <td>8.889</td>\n",
              "      <td>625.432</td>\n",
              "      <td>14.518</td>\n",
              "      <td>NaN</td>\n",
              "      <td>1.194</td>\n",
              "      <td>37846</td>\n",
              "      <td>19.536</td>\n",
              "      <td>0.627</td>\n",
              "    </tr>\n",
              "    <tr>\n",
              "      <th>1</th>\n",
              "      <td>2013-01-02</td>\n",
              "      <td>13.3</td>\n",
              "      <td>13.4</td>\n",
              "      <td>13.2</td>\n",
              "      <td>13.3</td>\n",
              "      <td>39280</td>\n",
              "      <td>114077</td>\n",
              "      <td>31809</td>\n",
              "      <td>2979637</td>\n",
              "      <td>22804647966378</td>\n",
              "      <td>2233</td>\n",
              "      <td>23851896</td>\n",
              "      <td>0.0108</td>\n",
              "      <td>0.0066</td>\n",
              "      <td>9.412</td>\n",
              "      <td>650.617</td>\n",
              "      <td>14.514</td>\n",
              "      <td>NaN</td>\n",
              "      <td>1.497</td>\n",
              "      <td>43104</td>\n",
              "      <td>19.597</td>\n",
              "      <td>0.835</td>\n",
              "    </tr>\n",
              "    <tr>\n",
              "      <th>2</th>\n",
              "      <td>2013-01-03</td>\n",
              "      <td>13.3</td>\n",
              "      <td>13.5</td>\n",
              "      <td>13.3</td>\n",
              "      <td>13.4</td>\n",
              "      <td>42147</td>\n",
              "      <td>108023</td>\n",
              "      <td>38197</td>\n",
              "      <td>2979637</td>\n",
              "      <td>23724885599725</td>\n",
              "      <td>2276</td>\n",
              "      <td>20921297</td>\n",
              "      <td>0.0118</td>\n",
              "      <td>0.00661</td>\n",
              "      <td>8.889</td>\n",
              "      <td>542.73</td>\n",
              "      <td>19.732</td>\n",
              "      <td>NaN</td>\n",
              "      <td>1.798</td>\n",
              "      <td>51268</td>\n",
              "      <td>19.621</td>\n",
              "      <td>0.925</td>\n",
              "    </tr>\n",
              "    <tr>\n",
              "      <th>3</th>\n",
              "      <td>2013-01-04</td>\n",
              "      <td>13.4</td>\n",
              "      <td>13.5</td>\n",
              "      <td>13.3</td>\n",
              "      <td>13.5</td>\n",
              "      <td>48436</td>\n",
              "      <td>141811</td>\n",
              "      <td>34990</td>\n",
              "      <td>2979637</td>\n",
              "      <td>22608181137438</td>\n",
              "      <td>2259</td>\n",
              "      <td>29527613</td>\n",
              "      <td>0.0105</td>\n",
              "      <td>0.00661</td>\n",
              "      <td>9.412</td>\n",
              "      <td>632.431</td>\n",
              "      <td>11.384</td>\n",
              "      <td>NaN</td>\n",
              "      <td>1.841</td>\n",
              "      <td>47341</td>\n",
              "      <td>19.54</td>\n",
              "      <td>1</td>\n",
              "    </tr>\n",
              "    <tr>\n",
              "      <th>4</th>\n",
              "      <td>2013-01-05</td>\n",
              "      <td>13.5</td>\n",
              "      <td>13.6</td>\n",
              "      <td>13.3</td>\n",
              "      <td>13.4</td>\n",
              "      <td>39455</td>\n",
              "      <td>118240</td>\n",
              "      <td>38008</td>\n",
              "      <td>2979637</td>\n",
              "      <td>22590695489434</td>\n",
              "      <td>2074</td>\n",
              "      <td>26851599</td>\n",
              "      <td>0.0105</td>\n",
              "      <td>0.00659</td>\n",
              "      <td>10.213</td>\n",
              "      <td>697.556</td>\n",
              "      <td>13.945</td>\n",
              "      <td>NaN</td>\n",
              "      <td>1.826</td>\n",
              "      <td>53417</td>\n",
              "      <td>19.543</td>\n",
              "      <td>0.885</td>\n",
              "    </tr>\n",
              "    <tr>\n",
              "      <th>...</th>\n",
              "      <td>...</td>\n",
              "      <td>...</td>\n",
              "      <td>...</td>\n",
              "      <td>...</td>\n",
              "      <td>...</td>\n",
              "      <td>...</td>\n",
              "      <td>...</td>\n",
              "      <td>...</td>\n",
              "      <td>...</td>\n",
              "      <td>...</td>\n",
              "      <td>...</td>\n",
              "      <td>...</td>\n",
              "      <td>...</td>\n",
              "      <td>...</td>\n",
              "      <td>...</td>\n",
              "      <td>...</td>\n",
              "      <td>...</td>\n",
              "      <td>...</td>\n",
              "      <td>...</td>\n",
              "      <td>...</td>\n",
              "      <td>...</td>\n",
              "      <td>...</td>\n",
              "    </tr>\n",
              "    <tr>\n",
              "      <th>3179</th>\n",
              "      <td>2021-09-15</td>\n",
              "      <td>47070.8</td>\n",
              "      <td>48436.5</td>\n",
              "      <td>46743.9</td>\n",
              "      <td>48130.6</td>\n",
              "      <td>268815</td>\n",
              "      <td>736726</td>\n",
              "      <td>459889</td>\n",
              "      <td>18415156832118</td>\n",
              "      <td>1.3302830209149E+20</td>\n",
              "      <td>0.323</td>\n",
              "      <td>48228727220</td>\n",
              "      <td>3.018</td>\n",
              "      <td>0.863</td>\n",
              "      <td>10.141</td>\n",
              "      <td>702497</td>\n",
              "      <td>773.643</td>\n",
              "      <td>109407</td>\n",
              "      <td>NaN</td>\n",
              "      <td>823392</td>\n",
              "      <td>15.186</td>\n",
              "      <td>1.887</td>\n",
              "    </tr>\n",
              "    <tr>\n",
              "      <th>3180</th>\n",
              "      <td>2021-09-16</td>\n",
              "      <td>48132.3</td>\n",
              "      <td>48480.6</td>\n",
              "      <td>47040.3</td>\n",
              "      <td>47748.0</td>\n",
              "      <td>271087</td>\n",
              "      <td>817607</td>\n",
              "      <td>436025</td>\n",
              "      <td>18415156832118</td>\n",
              "      <td>1.302297111233E+20</td>\n",
              "      <td>0.319</td>\n",
              "      <td>42137524406</td>\n",
              "      <td>2.966</td>\n",
              "      <td>0.808</td>\n",
              "      <td>10.588</td>\n",
              "      <td>766989</td>\n",
              "      <td>719.701</td>\n",
              "      <td>90855</td>\n",
              "      <td>NaN</td>\n",
              "      <td>879832</td>\n",
              "      <td>15.185</td>\n",
              "      <td>1.938</td>\n",
              "    </tr>\n",
              "    <tr>\n",
              "      <th>3181</th>\n",
              "      <td>2021-09-17</td>\n",
              "      <td>47748.2</td>\n",
              "      <td>48155.9</td>\n",
              "      <td>46788.8</td>\n",
              "      <td>47282.8</td>\n",
              "      <td>270893</td>\n",
              "      <td>720056</td>\n",
              "      <td>384965</td>\n",
              "      <td>18415156832118</td>\n",
              "      <td>1.272835239381E+20</td>\n",
              "      <td>0.349</td>\n",
              "      <td>29613757834</td>\n",
              "      <td>2.631</td>\n",
              "      <td>0.712</td>\n",
              "      <td>9.796</td>\n",
              "      <td>612387</td>\n",
              "      <td>714.99</td>\n",
              "      <td>101046</td>\n",
              "      <td>NaN</td>\n",
              "      <td>823793</td>\n",
              "      <td>15.177</td>\n",
              "      <td>1.605</td>\n",
              "    </tr>\n",
              "    <tr>\n",
              "      <th>3182</th>\n",
              "      <td>2021-09-18</td>\n",
              "      <td>47283.9</td>\n",
              "      <td>48761.0</td>\n",
              "      <td>47070.5</td>\n",
              "      <td>48306.7</td>\n",
              "      <td>227506</td>\n",
              "      <td>563189</td>\n",
              "      <td>248478</td>\n",
              "      <td>18415156832118</td>\n",
              "      <td>1.4285050981775E+20</td>\n",
              "      <td>0.331</td>\n",
              "      <td>19832657077</td>\n",
              "      <td>2.457</td>\n",
              "      <td>0.572</td>\n",
              "      <td>9.29</td>\n",
              "      <td>638205</td>\n",
              "      <td>593.076</td>\n",
              "      <td>82649</td>\n",
              "      <td>NaN</td>\n",
              "      <td>701986</td>\n",
              "      <td>15.185</td>\n",
              "      <td>1.183</td>\n",
              "    </tr>\n",
              "    <tr>\n",
              "      <th>3183</th>\n",
              "      <td>2021-09-19</td>\n",
              "      <td>48299.9</td>\n",
              "      <td>48341.9</td>\n",
              "      <td>47114.0</td>\n",
              "      <td>47328.0</td>\n",
              "      <td>NaN</td>\n",
              "      <td>NaN</td>\n",
              "      <td>NaN</td>\n",
              "      <td>NaN</td>\n",
              "      <td>NaN</td>\n",
              "      <td>NaN</td>\n",
              "      <td>NaN</td>\n",
              "      <td>NaN</td>\n",
              "      <td>NaN</td>\n",
              "      <td>NaN</td>\n",
              "      <td>NaN</td>\n",
              "      <td>NaN</td>\n",
              "      <td>55238</td>\n",
              "      <td>NaN</td>\n",
              "      <td>628936</td>\n",
              "      <td>15.193</td>\n",
              "      <td>NaN</td>\n",
              "    </tr>\n",
              "  </tbody>\n",
              "</table>\n",
              "<p>3184 rows × 22 columns</p>\n",
              "</div>"
            ],
            "text/plain": [
              "           Date  opening_price  ...  top100_to_total_percentage  avg_fee_to_reward\n",
              "0    2013-01-01           13.5  ...                      19.536              0.627\n",
              "1    2013-01-02           13.3  ...                      19.597              0.835\n",
              "2    2013-01-03           13.3  ...                      19.621              0.925\n",
              "3    2013-01-04           13.4  ...                       19.54                  1\n",
              "4    2013-01-05           13.5  ...                      19.543              0.885\n",
              "...         ...            ...  ...                         ...                ...\n",
              "3179 2021-09-15        47070.8  ...                      15.186              1.887\n",
              "3180 2021-09-16        48132.3  ...                      15.185              1.938\n",
              "3181 2021-09-17        47748.2  ...                      15.177              1.605\n",
              "3182 2021-09-18        47283.9  ...                      15.185              1.183\n",
              "3183 2021-09-19        48299.9  ...                      15.193                NaN\n",
              "\n",
              "[3184 rows x 22 columns]"
            ]
          },
          "metadata": {},
          "execution_count": 102
        }
      ]
    },
    {
      "cell_type": "code",
      "metadata": {
        "id": "TIWCjV2O1cPz"
      },
      "source": [
        "#Filtering data as we are considering this peiod only\n",
        "final_df = final_df[(final_df['Date'] >= '2013-01-01')].reset_index(drop=True)"
      ],
      "execution_count": null,
      "outputs": []
    },
    {
      "cell_type": "code",
      "metadata": {
        "id": "wi2ny2gEgw_k",
        "colab": {
          "base_uri": "https://localhost:8080/",
          "height": 605
        },
        "outputId": "bfcdf469-cd03-48bb-ff5d-3676c277f8a6"
      },
      "source": [
        "final_df = pd.merge(final_df,btc_in_circulation_df,on=['Date'],how='left')\n",
        "final_df = pd.merge(final_df,miners_revenue_df,on=['Date'],how='left')\n",
        "final_df"
      ],
      "execution_count": null,
      "outputs": [
        {
          "output_type": "execute_result",
          "data": {
            "text/html": [
              "<div>\n",
              "<style scoped>\n",
              "    .dataframe tbody tr th:only-of-type {\n",
              "        vertical-align: middle;\n",
              "    }\n",
              "\n",
              "    .dataframe tbody tr th {\n",
              "        vertical-align: top;\n",
              "    }\n",
              "\n",
              "    .dataframe thead th {\n",
              "        text-align: right;\n",
              "    }\n",
              "</style>\n",
              "<table border=\"1\" class=\"dataframe\">\n",
              "  <thead>\n",
              "    <tr style=\"text-align: right;\">\n",
              "      <th></th>\n",
              "      <th>Date</th>\n",
              "      <th>opening_price</th>\n",
              "      <th>highest_price</th>\n",
              "      <th>lowest_price</th>\n",
              "      <th>closing_price</th>\n",
              "      <th>transactions_in_blockchain</th>\n",
              "      <th>avg_block_size</th>\n",
              "      <th>sent_by_adress</th>\n",
              "      <th>avg_mining_difficulty</th>\n",
              "      <th>avg_hashrate</th>\n",
              "      <th>mining_profitability</th>\n",
              "      <th>sent_coins_in_usd</th>\n",
              "      <th>avg_transaction_fees</th>\n",
              "      <th>median_transaction_fees</th>\n",
              "      <th>avg_block_time</th>\n",
              "      <th>avg_transaction_value</th>\n",
              "      <th>median_transaction_value</th>\n",
              "      <th>tweets</th>\n",
              "      <th>google_trends</th>\n",
              "      <th>active_addresses</th>\n",
              "      <th>top100_to_total_percentage</th>\n",
              "      <th>avg_fee_to_reward</th>\n",
              "      <th>number_of_coins_in_circulation</th>\n",
              "      <th>miner_revenue</th>\n",
              "    </tr>\n",
              "  </thead>\n",
              "  <tbody>\n",
              "    <tr>\n",
              "      <th>0</th>\n",
              "      <td>2013-01-01</td>\n",
              "      <td>13.5</td>\n",
              "      <td>13.6</td>\n",
              "      <td>13.2</td>\n",
              "      <td>13.3</td>\n",
              "      <td>31734</td>\n",
              "      <td>89033</td>\n",
              "      <td>26174</td>\n",
              "      <td>2979637</td>\n",
              "      <td>24331539528899</td>\n",
              "      <td>2246</td>\n",
              "      <td>18839472</td>\n",
              "      <td>0.0107</td>\n",
              "      <td>0.0067</td>\n",
              "      <td>8.889</td>\n",
              "      <td>625.432</td>\n",
              "      <td>14.518</td>\n",
              "      <td>NaN</td>\n",
              "      <td>1.194</td>\n",
              "      <td>37846</td>\n",
              "      <td>19.536</td>\n",
              "      <td>0.627</td>\n",
              "      <td>10621175.00</td>\n",
              "      <td>5.264860e+04</td>\n",
              "    </tr>\n",
              "    <tr>\n",
              "      <th>1</th>\n",
              "      <td>2013-01-02</td>\n",
              "      <td>13.3</td>\n",
              "      <td>13.4</td>\n",
              "      <td>13.2</td>\n",
              "      <td>13.3</td>\n",
              "      <td>39280</td>\n",
              "      <td>114077</td>\n",
              "      <td>31809</td>\n",
              "      <td>2979637</td>\n",
              "      <td>22804647966378</td>\n",
              "      <td>2233</td>\n",
              "      <td>23851896</td>\n",
              "      <td>0.0108</td>\n",
              "      <td>0.0066</td>\n",
              "      <td>9.412</td>\n",
              "      <td>650.617</td>\n",
              "      <td>14.514</td>\n",
              "      <td>NaN</td>\n",
              "      <td>1.497</td>\n",
              "      <td>43104</td>\n",
              "      <td>19.597</td>\n",
              "      <td>0.835</td>\n",
              "      <td>10621575.00</td>\n",
              "      <td>5.486525e+04</td>\n",
              "    </tr>\n",
              "    <tr>\n",
              "      <th>2</th>\n",
              "      <td>2013-01-03</td>\n",
              "      <td>13.3</td>\n",
              "      <td>13.5</td>\n",
              "      <td>13.3</td>\n",
              "      <td>13.4</td>\n",
              "      <td>42147</td>\n",
              "      <td>108023</td>\n",
              "      <td>38197</td>\n",
              "      <td>2979637</td>\n",
              "      <td>23724885599725</td>\n",
              "      <td>2276</td>\n",
              "      <td>20921297</td>\n",
              "      <td>0.0118</td>\n",
              "      <td>0.00661</td>\n",
              "      <td>8.889</td>\n",
              "      <td>542.73</td>\n",
              "      <td>19.732</td>\n",
              "      <td>NaN</td>\n",
              "      <td>1.798</td>\n",
              "      <td>51268</td>\n",
              "      <td>19.621</td>\n",
              "      <td>0.925</td>\n",
              "      <td>10628700.00</td>\n",
              "      <td>4.811833e+04</td>\n",
              "    </tr>\n",
              "    <tr>\n",
              "      <th>3</th>\n",
              "      <td>2013-01-04</td>\n",
              "      <td>13.4</td>\n",
              "      <td>13.5</td>\n",
              "      <td>13.3</td>\n",
              "      <td>13.5</td>\n",
              "      <td>48436</td>\n",
              "      <td>141811</td>\n",
              "      <td>34990</td>\n",
              "      <td>2979637</td>\n",
              "      <td>22608181137438</td>\n",
              "      <td>2259</td>\n",
              "      <td>29527613</td>\n",
              "      <td>0.0105</td>\n",
              "      <td>0.00661</td>\n",
              "      <td>9.412</td>\n",
              "      <td>632.431</td>\n",
              "      <td>11.384</td>\n",
              "      <td>NaN</td>\n",
              "      <td>1.841</td>\n",
              "      <td>47341</td>\n",
              "      <td>19.54</td>\n",
              "      <td>1</td>\n",
              "      <td>10632425.00</td>\n",
              "      <td>5.087274e+04</td>\n",
              "    </tr>\n",
              "    <tr>\n",
              "      <th>4</th>\n",
              "      <td>2013-01-05</td>\n",
              "      <td>13.5</td>\n",
              "      <td>13.6</td>\n",
              "      <td>13.3</td>\n",
              "      <td>13.4</td>\n",
              "      <td>39455</td>\n",
              "      <td>118240</td>\n",
              "      <td>38008</td>\n",
              "      <td>2979637</td>\n",
              "      <td>22590695489434</td>\n",
              "      <td>2074</td>\n",
              "      <td>26851599</td>\n",
              "      <td>0.0105</td>\n",
              "      <td>0.00659</td>\n",
              "      <td>10.213</td>\n",
              "      <td>697.556</td>\n",
              "      <td>13.945</td>\n",
              "      <td>NaN</td>\n",
              "      <td>1.826</td>\n",
              "      <td>53417</td>\n",
              "      <td>19.543</td>\n",
              "      <td>0.885</td>\n",
              "      <td>10633200.00</td>\n",
              "      <td>5.139673e+04</td>\n",
              "    </tr>\n",
              "    <tr>\n",
              "      <th>...</th>\n",
              "      <td>...</td>\n",
              "      <td>...</td>\n",
              "      <td>...</td>\n",
              "      <td>...</td>\n",
              "      <td>...</td>\n",
              "      <td>...</td>\n",
              "      <td>...</td>\n",
              "      <td>...</td>\n",
              "      <td>...</td>\n",
              "      <td>...</td>\n",
              "      <td>...</td>\n",
              "      <td>...</td>\n",
              "      <td>...</td>\n",
              "      <td>...</td>\n",
              "      <td>...</td>\n",
              "      <td>...</td>\n",
              "      <td>...</td>\n",
              "      <td>...</td>\n",
              "      <td>...</td>\n",
              "      <td>...</td>\n",
              "      <td>...</td>\n",
              "      <td>...</td>\n",
              "      <td>...</td>\n",
              "      <td>...</td>\n",
              "    </tr>\n",
              "    <tr>\n",
              "      <th>3179</th>\n",
              "      <td>2021-09-15</td>\n",
              "      <td>47070.8</td>\n",
              "      <td>48436.5</td>\n",
              "      <td>46743.9</td>\n",
              "      <td>48130.6</td>\n",
              "      <td>268815</td>\n",
              "      <td>736726</td>\n",
              "      <td>459889</td>\n",
              "      <td>18415156832118</td>\n",
              "      <td>1.3302830209149E+20</td>\n",
              "      <td>0.323</td>\n",
              "      <td>48228727220</td>\n",
              "      <td>3.018</td>\n",
              "      <td>0.863</td>\n",
              "      <td>10.141</td>\n",
              "      <td>702497</td>\n",
              "      <td>773.643</td>\n",
              "      <td>109407</td>\n",
              "      <td>NaN</td>\n",
              "      <td>823392</td>\n",
              "      <td>15.186</td>\n",
              "      <td>1.887</td>\n",
              "      <td>18817025.00</td>\n",
              "      <td>4.302687e+07</td>\n",
              "    </tr>\n",
              "    <tr>\n",
              "      <th>3180</th>\n",
              "      <td>2021-09-16</td>\n",
              "      <td>48132.3</td>\n",
              "      <td>48480.6</td>\n",
              "      <td>47040.3</td>\n",
              "      <td>47748.0</td>\n",
              "      <td>271087</td>\n",
              "      <td>817607</td>\n",
              "      <td>436025</td>\n",
              "      <td>18415156832118</td>\n",
              "      <td>1.302297111233E+20</td>\n",
              "      <td>0.319</td>\n",
              "      <td>42137524406</td>\n",
              "      <td>2.966</td>\n",
              "      <td>0.808</td>\n",
              "      <td>10.588</td>\n",
              "      <td>766989</td>\n",
              "      <td>719.701</td>\n",
              "      <td>90855</td>\n",
              "      <td>NaN</td>\n",
              "      <td>879832</td>\n",
              "      <td>15.185</td>\n",
              "      <td>1.938</td>\n",
              "      <td>18817900.00</td>\n",
              "      <td>4.144786e+07</td>\n",
              "    </tr>\n",
              "    <tr>\n",
              "      <th>3181</th>\n",
              "      <td>2021-09-17</td>\n",
              "      <td>47748.2</td>\n",
              "      <td>48155.9</td>\n",
              "      <td>46788.8</td>\n",
              "      <td>47282.8</td>\n",
              "      <td>270893</td>\n",
              "      <td>720056</td>\n",
              "      <td>384965</td>\n",
              "      <td>18415156832118</td>\n",
              "      <td>1.272835239381E+20</td>\n",
              "      <td>0.349</td>\n",
              "      <td>29613757834</td>\n",
              "      <td>2.631</td>\n",
              "      <td>0.712</td>\n",
              "      <td>9.796</td>\n",
              "      <td>612387</td>\n",
              "      <td>714.99</td>\n",
              "      <td>101046</td>\n",
              "      <td>NaN</td>\n",
              "      <td>823793</td>\n",
              "      <td>15.177</td>\n",
              "      <td>1.605</td>\n",
              "      <td>18818781.25</td>\n",
              "      <td>4.500074e+07</td>\n",
              "    </tr>\n",
              "    <tr>\n",
              "      <th>3182</th>\n",
              "      <td>2021-09-18</td>\n",
              "      <td>47283.9</td>\n",
              "      <td>48761.0</td>\n",
              "      <td>47070.5</td>\n",
              "      <td>48306.7</td>\n",
              "      <td>227506</td>\n",
              "      <td>563189</td>\n",
              "      <td>248478</td>\n",
              "      <td>18415156832118</td>\n",
              "      <td>1.4285050981775E+20</td>\n",
              "      <td>0.331</td>\n",
              "      <td>19832657077</td>\n",
              "      <td>2.457</td>\n",
              "      <td>0.572</td>\n",
              "      <td>9.29</td>\n",
              "      <td>638205</td>\n",
              "      <td>593.076</td>\n",
              "      <td>82649</td>\n",
              "      <td>NaN</td>\n",
              "      <td>701986</td>\n",
              "      <td>15.185</td>\n",
              "      <td>1.183</td>\n",
              "      <td>18819662.50</td>\n",
              "      <td>4.781768e+07</td>\n",
              "    </tr>\n",
              "    <tr>\n",
              "      <th>3183</th>\n",
              "      <td>2021-09-19</td>\n",
              "      <td>48299.9</td>\n",
              "      <td>48341.9</td>\n",
              "      <td>47114.0</td>\n",
              "      <td>47328.0</td>\n",
              "      <td>NaN</td>\n",
              "      <td>NaN</td>\n",
              "      <td>NaN</td>\n",
              "      <td>NaN</td>\n",
              "      <td>NaN</td>\n",
              "      <td>NaN</td>\n",
              "      <td>NaN</td>\n",
              "      <td>NaN</td>\n",
              "      <td>NaN</td>\n",
              "      <td>NaN</td>\n",
              "      <td>NaN</td>\n",
              "      <td>NaN</td>\n",
              "      <td>55238</td>\n",
              "      <td>NaN</td>\n",
              "      <td>628936</td>\n",
              "      <td>15.193</td>\n",
              "      <td>NaN</td>\n",
              "      <td>NaN</td>\n",
              "      <td>NaN</td>\n",
              "    </tr>\n",
              "  </tbody>\n",
              "</table>\n",
              "<p>3184 rows × 24 columns</p>\n",
              "</div>"
            ],
            "text/plain": [
              "           Date  opening_price  ...  number_of_coins_in_circulation  miner_revenue\n",
              "0    2013-01-01           13.5  ...                     10621175.00   5.264860e+04\n",
              "1    2013-01-02           13.3  ...                     10621575.00   5.486525e+04\n",
              "2    2013-01-03           13.3  ...                     10628700.00   4.811833e+04\n",
              "3    2013-01-04           13.4  ...                     10632425.00   5.087274e+04\n",
              "4    2013-01-05           13.5  ...                     10633200.00   5.139673e+04\n",
              "...         ...            ...  ...                             ...            ...\n",
              "3179 2021-09-15        47070.8  ...                     18817025.00   4.302687e+07\n",
              "3180 2021-09-16        48132.3  ...                     18817900.00   4.144786e+07\n",
              "3181 2021-09-17        47748.2  ...                     18818781.25   4.500074e+07\n",
              "3182 2021-09-18        47283.9  ...                     18819662.50   4.781768e+07\n",
              "3183 2021-09-19        48299.9  ...                             NaN            NaN\n",
              "\n",
              "[3184 rows x 24 columns]"
            ]
          },
          "metadata": {},
          "execution_count": 104
        }
      ]
    },
    {
      "cell_type": "code",
      "metadata": {
        "id": "ElMwNIwN1tAs",
        "colab": {
          "base_uri": "https://localhost:8080/",
          "height": 605
        },
        "outputId": "bf01c0db-9904-4ed8-bea2-1da5d866369a"
      },
      "source": [
        "final_df['next_day_closing_price'] = final_df['closing_price'].shift(-1)\n",
        "final_df"
      ],
      "execution_count": null,
      "outputs": [
        {
          "output_type": "execute_result",
          "data": {
            "text/html": [
              "<div>\n",
              "<style scoped>\n",
              "    .dataframe tbody tr th:only-of-type {\n",
              "        vertical-align: middle;\n",
              "    }\n",
              "\n",
              "    .dataframe tbody tr th {\n",
              "        vertical-align: top;\n",
              "    }\n",
              "\n",
              "    .dataframe thead th {\n",
              "        text-align: right;\n",
              "    }\n",
              "</style>\n",
              "<table border=\"1\" class=\"dataframe\">\n",
              "  <thead>\n",
              "    <tr style=\"text-align: right;\">\n",
              "      <th></th>\n",
              "      <th>Date</th>\n",
              "      <th>opening_price</th>\n",
              "      <th>highest_price</th>\n",
              "      <th>lowest_price</th>\n",
              "      <th>closing_price</th>\n",
              "      <th>transactions_in_blockchain</th>\n",
              "      <th>avg_block_size</th>\n",
              "      <th>sent_by_adress</th>\n",
              "      <th>avg_mining_difficulty</th>\n",
              "      <th>avg_hashrate</th>\n",
              "      <th>mining_profitability</th>\n",
              "      <th>sent_coins_in_usd</th>\n",
              "      <th>avg_transaction_fees</th>\n",
              "      <th>median_transaction_fees</th>\n",
              "      <th>avg_block_time</th>\n",
              "      <th>avg_transaction_value</th>\n",
              "      <th>median_transaction_value</th>\n",
              "      <th>tweets</th>\n",
              "      <th>google_trends</th>\n",
              "      <th>active_addresses</th>\n",
              "      <th>top100_to_total_percentage</th>\n",
              "      <th>avg_fee_to_reward</th>\n",
              "      <th>number_of_coins_in_circulation</th>\n",
              "      <th>miner_revenue</th>\n",
              "      <th>next_day_closing_price</th>\n",
              "    </tr>\n",
              "  </thead>\n",
              "  <tbody>\n",
              "    <tr>\n",
              "      <th>0</th>\n",
              "      <td>2013-01-01</td>\n",
              "      <td>13.5</td>\n",
              "      <td>13.6</td>\n",
              "      <td>13.2</td>\n",
              "      <td>13.3</td>\n",
              "      <td>31734</td>\n",
              "      <td>89033</td>\n",
              "      <td>26174</td>\n",
              "      <td>2979637</td>\n",
              "      <td>24331539528899</td>\n",
              "      <td>2246</td>\n",
              "      <td>18839472</td>\n",
              "      <td>0.0107</td>\n",
              "      <td>0.0067</td>\n",
              "      <td>8.889</td>\n",
              "      <td>625.432</td>\n",
              "      <td>14.518</td>\n",
              "      <td>NaN</td>\n",
              "      <td>1.194</td>\n",
              "      <td>37846</td>\n",
              "      <td>19.536</td>\n",
              "      <td>0.627</td>\n",
              "      <td>10621175.00</td>\n",
              "      <td>5.264860e+04</td>\n",
              "      <td>13.3</td>\n",
              "    </tr>\n",
              "    <tr>\n",
              "      <th>1</th>\n",
              "      <td>2013-01-02</td>\n",
              "      <td>13.3</td>\n",
              "      <td>13.4</td>\n",
              "      <td>13.2</td>\n",
              "      <td>13.3</td>\n",
              "      <td>39280</td>\n",
              "      <td>114077</td>\n",
              "      <td>31809</td>\n",
              "      <td>2979637</td>\n",
              "      <td>22804647966378</td>\n",
              "      <td>2233</td>\n",
              "      <td>23851896</td>\n",
              "      <td>0.0108</td>\n",
              "      <td>0.0066</td>\n",
              "      <td>9.412</td>\n",
              "      <td>650.617</td>\n",
              "      <td>14.514</td>\n",
              "      <td>NaN</td>\n",
              "      <td>1.497</td>\n",
              "      <td>43104</td>\n",
              "      <td>19.597</td>\n",
              "      <td>0.835</td>\n",
              "      <td>10621575.00</td>\n",
              "      <td>5.486525e+04</td>\n",
              "      <td>13.4</td>\n",
              "    </tr>\n",
              "    <tr>\n",
              "      <th>2</th>\n",
              "      <td>2013-01-03</td>\n",
              "      <td>13.3</td>\n",
              "      <td>13.5</td>\n",
              "      <td>13.3</td>\n",
              "      <td>13.4</td>\n",
              "      <td>42147</td>\n",
              "      <td>108023</td>\n",
              "      <td>38197</td>\n",
              "      <td>2979637</td>\n",
              "      <td>23724885599725</td>\n",
              "      <td>2276</td>\n",
              "      <td>20921297</td>\n",
              "      <td>0.0118</td>\n",
              "      <td>0.00661</td>\n",
              "      <td>8.889</td>\n",
              "      <td>542.73</td>\n",
              "      <td>19.732</td>\n",
              "      <td>NaN</td>\n",
              "      <td>1.798</td>\n",
              "      <td>51268</td>\n",
              "      <td>19.621</td>\n",
              "      <td>0.925</td>\n",
              "      <td>10628700.00</td>\n",
              "      <td>4.811833e+04</td>\n",
              "      <td>13.5</td>\n",
              "    </tr>\n",
              "    <tr>\n",
              "      <th>3</th>\n",
              "      <td>2013-01-04</td>\n",
              "      <td>13.4</td>\n",
              "      <td>13.5</td>\n",
              "      <td>13.3</td>\n",
              "      <td>13.5</td>\n",
              "      <td>48436</td>\n",
              "      <td>141811</td>\n",
              "      <td>34990</td>\n",
              "      <td>2979637</td>\n",
              "      <td>22608181137438</td>\n",
              "      <td>2259</td>\n",
              "      <td>29527613</td>\n",
              "      <td>0.0105</td>\n",
              "      <td>0.00661</td>\n",
              "      <td>9.412</td>\n",
              "      <td>632.431</td>\n",
              "      <td>11.384</td>\n",
              "      <td>NaN</td>\n",
              "      <td>1.841</td>\n",
              "      <td>47341</td>\n",
              "      <td>19.54</td>\n",
              "      <td>1</td>\n",
              "      <td>10632425.00</td>\n",
              "      <td>5.087274e+04</td>\n",
              "      <td>13.4</td>\n",
              "    </tr>\n",
              "    <tr>\n",
              "      <th>4</th>\n",
              "      <td>2013-01-05</td>\n",
              "      <td>13.5</td>\n",
              "      <td>13.6</td>\n",
              "      <td>13.3</td>\n",
              "      <td>13.4</td>\n",
              "      <td>39455</td>\n",
              "      <td>118240</td>\n",
              "      <td>38008</td>\n",
              "      <td>2979637</td>\n",
              "      <td>22590695489434</td>\n",
              "      <td>2074</td>\n",
              "      <td>26851599</td>\n",
              "      <td>0.0105</td>\n",
              "      <td>0.00659</td>\n",
              "      <td>10.213</td>\n",
              "      <td>697.556</td>\n",
              "      <td>13.945</td>\n",
              "      <td>NaN</td>\n",
              "      <td>1.826</td>\n",
              "      <td>53417</td>\n",
              "      <td>19.543</td>\n",
              "      <td>0.885</td>\n",
              "      <td>10633200.00</td>\n",
              "      <td>5.139673e+04</td>\n",
              "      <td>13.4</td>\n",
              "    </tr>\n",
              "    <tr>\n",
              "      <th>...</th>\n",
              "      <td>...</td>\n",
              "      <td>...</td>\n",
              "      <td>...</td>\n",
              "      <td>...</td>\n",
              "      <td>...</td>\n",
              "      <td>...</td>\n",
              "      <td>...</td>\n",
              "      <td>...</td>\n",
              "      <td>...</td>\n",
              "      <td>...</td>\n",
              "      <td>...</td>\n",
              "      <td>...</td>\n",
              "      <td>...</td>\n",
              "      <td>...</td>\n",
              "      <td>...</td>\n",
              "      <td>...</td>\n",
              "      <td>...</td>\n",
              "      <td>...</td>\n",
              "      <td>...</td>\n",
              "      <td>...</td>\n",
              "      <td>...</td>\n",
              "      <td>...</td>\n",
              "      <td>...</td>\n",
              "      <td>...</td>\n",
              "      <td>...</td>\n",
              "    </tr>\n",
              "    <tr>\n",
              "      <th>3179</th>\n",
              "      <td>2021-09-15</td>\n",
              "      <td>47070.8</td>\n",
              "      <td>48436.5</td>\n",
              "      <td>46743.9</td>\n",
              "      <td>48130.6</td>\n",
              "      <td>268815</td>\n",
              "      <td>736726</td>\n",
              "      <td>459889</td>\n",
              "      <td>18415156832118</td>\n",
              "      <td>1.3302830209149E+20</td>\n",
              "      <td>0.323</td>\n",
              "      <td>48228727220</td>\n",
              "      <td>3.018</td>\n",
              "      <td>0.863</td>\n",
              "      <td>10.141</td>\n",
              "      <td>702497</td>\n",
              "      <td>773.643</td>\n",
              "      <td>109407</td>\n",
              "      <td>NaN</td>\n",
              "      <td>823392</td>\n",
              "      <td>15.186</td>\n",
              "      <td>1.887</td>\n",
              "      <td>18817025.00</td>\n",
              "      <td>4.302687e+07</td>\n",
              "      <td>47748.0</td>\n",
              "    </tr>\n",
              "    <tr>\n",
              "      <th>3180</th>\n",
              "      <td>2021-09-16</td>\n",
              "      <td>48132.3</td>\n",
              "      <td>48480.6</td>\n",
              "      <td>47040.3</td>\n",
              "      <td>47748.0</td>\n",
              "      <td>271087</td>\n",
              "      <td>817607</td>\n",
              "      <td>436025</td>\n",
              "      <td>18415156832118</td>\n",
              "      <td>1.302297111233E+20</td>\n",
              "      <td>0.319</td>\n",
              "      <td>42137524406</td>\n",
              "      <td>2.966</td>\n",
              "      <td>0.808</td>\n",
              "      <td>10.588</td>\n",
              "      <td>766989</td>\n",
              "      <td>719.701</td>\n",
              "      <td>90855</td>\n",
              "      <td>NaN</td>\n",
              "      <td>879832</td>\n",
              "      <td>15.185</td>\n",
              "      <td>1.938</td>\n",
              "      <td>18817900.00</td>\n",
              "      <td>4.144786e+07</td>\n",
              "      <td>47282.8</td>\n",
              "    </tr>\n",
              "    <tr>\n",
              "      <th>3181</th>\n",
              "      <td>2021-09-17</td>\n",
              "      <td>47748.2</td>\n",
              "      <td>48155.9</td>\n",
              "      <td>46788.8</td>\n",
              "      <td>47282.8</td>\n",
              "      <td>270893</td>\n",
              "      <td>720056</td>\n",
              "      <td>384965</td>\n",
              "      <td>18415156832118</td>\n",
              "      <td>1.272835239381E+20</td>\n",
              "      <td>0.349</td>\n",
              "      <td>29613757834</td>\n",
              "      <td>2.631</td>\n",
              "      <td>0.712</td>\n",
              "      <td>9.796</td>\n",
              "      <td>612387</td>\n",
              "      <td>714.99</td>\n",
              "      <td>101046</td>\n",
              "      <td>NaN</td>\n",
              "      <td>823793</td>\n",
              "      <td>15.177</td>\n",
              "      <td>1.605</td>\n",
              "      <td>18818781.25</td>\n",
              "      <td>4.500074e+07</td>\n",
              "      <td>48306.7</td>\n",
              "    </tr>\n",
              "    <tr>\n",
              "      <th>3182</th>\n",
              "      <td>2021-09-18</td>\n",
              "      <td>47283.9</td>\n",
              "      <td>48761.0</td>\n",
              "      <td>47070.5</td>\n",
              "      <td>48306.7</td>\n",
              "      <td>227506</td>\n",
              "      <td>563189</td>\n",
              "      <td>248478</td>\n",
              "      <td>18415156832118</td>\n",
              "      <td>1.4285050981775E+20</td>\n",
              "      <td>0.331</td>\n",
              "      <td>19832657077</td>\n",
              "      <td>2.457</td>\n",
              "      <td>0.572</td>\n",
              "      <td>9.29</td>\n",
              "      <td>638205</td>\n",
              "      <td>593.076</td>\n",
              "      <td>82649</td>\n",
              "      <td>NaN</td>\n",
              "      <td>701986</td>\n",
              "      <td>15.185</td>\n",
              "      <td>1.183</td>\n",
              "      <td>18819662.50</td>\n",
              "      <td>4.781768e+07</td>\n",
              "      <td>47328.0</td>\n",
              "    </tr>\n",
              "    <tr>\n",
              "      <th>3183</th>\n",
              "      <td>2021-09-19</td>\n",
              "      <td>48299.9</td>\n",
              "      <td>48341.9</td>\n",
              "      <td>47114.0</td>\n",
              "      <td>47328.0</td>\n",
              "      <td>NaN</td>\n",
              "      <td>NaN</td>\n",
              "      <td>NaN</td>\n",
              "      <td>NaN</td>\n",
              "      <td>NaN</td>\n",
              "      <td>NaN</td>\n",
              "      <td>NaN</td>\n",
              "      <td>NaN</td>\n",
              "      <td>NaN</td>\n",
              "      <td>NaN</td>\n",
              "      <td>NaN</td>\n",
              "      <td>NaN</td>\n",
              "      <td>55238</td>\n",
              "      <td>NaN</td>\n",
              "      <td>628936</td>\n",
              "      <td>15.193</td>\n",
              "      <td>NaN</td>\n",
              "      <td>NaN</td>\n",
              "      <td>NaN</td>\n",
              "      <td>NaN</td>\n",
              "    </tr>\n",
              "  </tbody>\n",
              "</table>\n",
              "<p>3184 rows × 25 columns</p>\n",
              "</div>"
            ],
            "text/plain": [
              "           Date  opening_price  ...  miner_revenue  next_day_closing_price\n",
              "0    2013-01-01           13.5  ...   5.264860e+04                    13.3\n",
              "1    2013-01-02           13.3  ...   5.486525e+04                    13.4\n",
              "2    2013-01-03           13.3  ...   4.811833e+04                    13.5\n",
              "3    2013-01-04           13.4  ...   5.087274e+04                    13.4\n",
              "4    2013-01-05           13.5  ...   5.139673e+04                    13.4\n",
              "...         ...            ...  ...            ...                     ...\n",
              "3179 2021-09-15        47070.8  ...   4.302687e+07                 47748.0\n",
              "3180 2021-09-16        48132.3  ...   4.144786e+07                 47282.8\n",
              "3181 2021-09-17        47748.2  ...   4.500074e+07                 48306.7\n",
              "3182 2021-09-18        47283.9  ...   4.781768e+07                 47328.0\n",
              "3183 2021-09-19        48299.9  ...            NaN                     NaN\n",
              "\n",
              "[3184 rows x 25 columns]"
            ]
          },
          "metadata": {},
          "execution_count": 105
        }
      ]
    },
    {
      "cell_type": "code",
      "metadata": {
        "colab": {
          "base_uri": "https://localhost:8080/",
          "height": 605
        },
        "id": "HqgLc7HOL4z1",
        "outputId": "e1b7f8ac-5d6f-49e8-be1a-32b538cc9693"
      },
      "source": [
        "final_df.replace(to_replace='null', value=np.nan,inplace=True)\n",
        "final_df.drop(final_df.tail(1).index,inplace=True)\n",
        "final_df"
      ],
      "execution_count": null,
      "outputs": [
        {
          "output_type": "execute_result",
          "data": {
            "text/html": [
              "<div>\n",
              "<style scoped>\n",
              "    .dataframe tbody tr th:only-of-type {\n",
              "        vertical-align: middle;\n",
              "    }\n",
              "\n",
              "    .dataframe tbody tr th {\n",
              "        vertical-align: top;\n",
              "    }\n",
              "\n",
              "    .dataframe thead th {\n",
              "        text-align: right;\n",
              "    }\n",
              "</style>\n",
              "<table border=\"1\" class=\"dataframe\">\n",
              "  <thead>\n",
              "    <tr style=\"text-align: right;\">\n",
              "      <th></th>\n",
              "      <th>Date</th>\n",
              "      <th>opening_price</th>\n",
              "      <th>highest_price</th>\n",
              "      <th>lowest_price</th>\n",
              "      <th>closing_price</th>\n",
              "      <th>transactions_in_blockchain</th>\n",
              "      <th>avg_block_size</th>\n",
              "      <th>sent_by_adress</th>\n",
              "      <th>avg_mining_difficulty</th>\n",
              "      <th>avg_hashrate</th>\n",
              "      <th>mining_profitability</th>\n",
              "      <th>sent_coins_in_usd</th>\n",
              "      <th>avg_transaction_fees</th>\n",
              "      <th>median_transaction_fees</th>\n",
              "      <th>avg_block_time</th>\n",
              "      <th>avg_transaction_value</th>\n",
              "      <th>median_transaction_value</th>\n",
              "      <th>tweets</th>\n",
              "      <th>google_trends</th>\n",
              "      <th>active_addresses</th>\n",
              "      <th>top100_to_total_percentage</th>\n",
              "      <th>avg_fee_to_reward</th>\n",
              "      <th>number_of_coins_in_circulation</th>\n",
              "      <th>miner_revenue</th>\n",
              "      <th>next_day_closing_price</th>\n",
              "    </tr>\n",
              "  </thead>\n",
              "  <tbody>\n",
              "    <tr>\n",
              "      <th>0</th>\n",
              "      <td>2013-01-01</td>\n",
              "      <td>13.5</td>\n",
              "      <td>13.6</td>\n",
              "      <td>13.2</td>\n",
              "      <td>13.3</td>\n",
              "      <td>31734</td>\n",
              "      <td>89033</td>\n",
              "      <td>26174</td>\n",
              "      <td>2979637</td>\n",
              "      <td>24331539528899</td>\n",
              "      <td>2246</td>\n",
              "      <td>18839472</td>\n",
              "      <td>0.0107</td>\n",
              "      <td>0.0067</td>\n",
              "      <td>8.889</td>\n",
              "      <td>625.432</td>\n",
              "      <td>14.518</td>\n",
              "      <td>NaN</td>\n",
              "      <td>1.194</td>\n",
              "      <td>37846</td>\n",
              "      <td>19.536</td>\n",
              "      <td>0.627</td>\n",
              "      <td>10621175.00</td>\n",
              "      <td>5.264860e+04</td>\n",
              "      <td>13.3</td>\n",
              "    </tr>\n",
              "    <tr>\n",
              "      <th>1</th>\n",
              "      <td>2013-01-02</td>\n",
              "      <td>13.3</td>\n",
              "      <td>13.4</td>\n",
              "      <td>13.2</td>\n",
              "      <td>13.3</td>\n",
              "      <td>39280</td>\n",
              "      <td>114077</td>\n",
              "      <td>31809</td>\n",
              "      <td>2979637</td>\n",
              "      <td>22804647966378</td>\n",
              "      <td>2233</td>\n",
              "      <td>23851896</td>\n",
              "      <td>0.0108</td>\n",
              "      <td>0.0066</td>\n",
              "      <td>9.412</td>\n",
              "      <td>650.617</td>\n",
              "      <td>14.514</td>\n",
              "      <td>NaN</td>\n",
              "      <td>1.497</td>\n",
              "      <td>43104</td>\n",
              "      <td>19.597</td>\n",
              "      <td>0.835</td>\n",
              "      <td>10621575.00</td>\n",
              "      <td>5.486525e+04</td>\n",
              "      <td>13.4</td>\n",
              "    </tr>\n",
              "    <tr>\n",
              "      <th>2</th>\n",
              "      <td>2013-01-03</td>\n",
              "      <td>13.3</td>\n",
              "      <td>13.5</td>\n",
              "      <td>13.3</td>\n",
              "      <td>13.4</td>\n",
              "      <td>42147</td>\n",
              "      <td>108023</td>\n",
              "      <td>38197</td>\n",
              "      <td>2979637</td>\n",
              "      <td>23724885599725</td>\n",
              "      <td>2276</td>\n",
              "      <td>20921297</td>\n",
              "      <td>0.0118</td>\n",
              "      <td>0.00661</td>\n",
              "      <td>8.889</td>\n",
              "      <td>542.73</td>\n",
              "      <td>19.732</td>\n",
              "      <td>NaN</td>\n",
              "      <td>1.798</td>\n",
              "      <td>51268</td>\n",
              "      <td>19.621</td>\n",
              "      <td>0.925</td>\n",
              "      <td>10628700.00</td>\n",
              "      <td>4.811833e+04</td>\n",
              "      <td>13.5</td>\n",
              "    </tr>\n",
              "    <tr>\n",
              "      <th>3</th>\n",
              "      <td>2013-01-04</td>\n",
              "      <td>13.4</td>\n",
              "      <td>13.5</td>\n",
              "      <td>13.3</td>\n",
              "      <td>13.5</td>\n",
              "      <td>48436</td>\n",
              "      <td>141811</td>\n",
              "      <td>34990</td>\n",
              "      <td>2979637</td>\n",
              "      <td>22608181137438</td>\n",
              "      <td>2259</td>\n",
              "      <td>29527613</td>\n",
              "      <td>0.0105</td>\n",
              "      <td>0.00661</td>\n",
              "      <td>9.412</td>\n",
              "      <td>632.431</td>\n",
              "      <td>11.384</td>\n",
              "      <td>NaN</td>\n",
              "      <td>1.841</td>\n",
              "      <td>47341</td>\n",
              "      <td>19.54</td>\n",
              "      <td>1</td>\n",
              "      <td>10632425.00</td>\n",
              "      <td>5.087274e+04</td>\n",
              "      <td>13.4</td>\n",
              "    </tr>\n",
              "    <tr>\n",
              "      <th>4</th>\n",
              "      <td>2013-01-05</td>\n",
              "      <td>13.5</td>\n",
              "      <td>13.6</td>\n",
              "      <td>13.3</td>\n",
              "      <td>13.4</td>\n",
              "      <td>39455</td>\n",
              "      <td>118240</td>\n",
              "      <td>38008</td>\n",
              "      <td>2979637</td>\n",
              "      <td>22590695489434</td>\n",
              "      <td>2074</td>\n",
              "      <td>26851599</td>\n",
              "      <td>0.0105</td>\n",
              "      <td>0.00659</td>\n",
              "      <td>10.213</td>\n",
              "      <td>697.556</td>\n",
              "      <td>13.945</td>\n",
              "      <td>NaN</td>\n",
              "      <td>1.826</td>\n",
              "      <td>53417</td>\n",
              "      <td>19.543</td>\n",
              "      <td>0.885</td>\n",
              "      <td>10633200.00</td>\n",
              "      <td>5.139673e+04</td>\n",
              "      <td>13.4</td>\n",
              "    </tr>\n",
              "    <tr>\n",
              "      <th>...</th>\n",
              "      <td>...</td>\n",
              "      <td>...</td>\n",
              "      <td>...</td>\n",
              "      <td>...</td>\n",
              "      <td>...</td>\n",
              "      <td>...</td>\n",
              "      <td>...</td>\n",
              "      <td>...</td>\n",
              "      <td>...</td>\n",
              "      <td>...</td>\n",
              "      <td>...</td>\n",
              "      <td>...</td>\n",
              "      <td>...</td>\n",
              "      <td>...</td>\n",
              "      <td>...</td>\n",
              "      <td>...</td>\n",
              "      <td>...</td>\n",
              "      <td>...</td>\n",
              "      <td>...</td>\n",
              "      <td>...</td>\n",
              "      <td>...</td>\n",
              "      <td>...</td>\n",
              "      <td>...</td>\n",
              "      <td>...</td>\n",
              "      <td>...</td>\n",
              "    </tr>\n",
              "    <tr>\n",
              "      <th>3178</th>\n",
              "      <td>2021-09-14</td>\n",
              "      <td>44950.2</td>\n",
              "      <td>47247.6</td>\n",
              "      <td>44718.7</td>\n",
              "      <td>47077.5</td>\n",
              "      <td>267959</td>\n",
              "      <td>599399</td>\n",
              "      <td>472333</td>\n",
              "      <td>18415156832118</td>\n",
              "      <td>1.5551719497901E+20</td>\n",
              "      <td>0.315</td>\n",
              "      <td>383329472546</td>\n",
              "      <td>2.548</td>\n",
              "      <td>0.72</td>\n",
              "      <td>8.571</td>\n",
              "      <td>1932378</td>\n",
              "      <td>717.117</td>\n",
              "      <td>91267</td>\n",
              "      <td>NaN</td>\n",
              "      <td>793939</td>\n",
              "      <td>15.218</td>\n",
              "      <td>1.394</td>\n",
              "      <td>18816150.00</td>\n",
              "      <td>4.946986e+07</td>\n",
              "      <td>48130.6</td>\n",
              "    </tr>\n",
              "    <tr>\n",
              "      <th>3179</th>\n",
              "      <td>2021-09-15</td>\n",
              "      <td>47070.8</td>\n",
              "      <td>48436.5</td>\n",
              "      <td>46743.9</td>\n",
              "      <td>48130.6</td>\n",
              "      <td>268815</td>\n",
              "      <td>736726</td>\n",
              "      <td>459889</td>\n",
              "      <td>18415156832118</td>\n",
              "      <td>1.3302830209149E+20</td>\n",
              "      <td>0.323</td>\n",
              "      <td>48228727220</td>\n",
              "      <td>3.018</td>\n",
              "      <td>0.863</td>\n",
              "      <td>10.141</td>\n",
              "      <td>702497</td>\n",
              "      <td>773.643</td>\n",
              "      <td>109407</td>\n",
              "      <td>NaN</td>\n",
              "      <td>823392</td>\n",
              "      <td>15.186</td>\n",
              "      <td>1.887</td>\n",
              "      <td>18817025.00</td>\n",
              "      <td>4.302687e+07</td>\n",
              "      <td>47748.0</td>\n",
              "    </tr>\n",
              "    <tr>\n",
              "      <th>3180</th>\n",
              "      <td>2021-09-16</td>\n",
              "      <td>48132.3</td>\n",
              "      <td>48480.6</td>\n",
              "      <td>47040.3</td>\n",
              "      <td>47748.0</td>\n",
              "      <td>271087</td>\n",
              "      <td>817607</td>\n",
              "      <td>436025</td>\n",
              "      <td>18415156832118</td>\n",
              "      <td>1.302297111233E+20</td>\n",
              "      <td>0.319</td>\n",
              "      <td>42137524406</td>\n",
              "      <td>2.966</td>\n",
              "      <td>0.808</td>\n",
              "      <td>10.588</td>\n",
              "      <td>766989</td>\n",
              "      <td>719.701</td>\n",
              "      <td>90855</td>\n",
              "      <td>NaN</td>\n",
              "      <td>879832</td>\n",
              "      <td>15.185</td>\n",
              "      <td>1.938</td>\n",
              "      <td>18817900.00</td>\n",
              "      <td>4.144786e+07</td>\n",
              "      <td>47282.8</td>\n",
              "    </tr>\n",
              "    <tr>\n",
              "      <th>3181</th>\n",
              "      <td>2021-09-17</td>\n",
              "      <td>47748.2</td>\n",
              "      <td>48155.9</td>\n",
              "      <td>46788.8</td>\n",
              "      <td>47282.8</td>\n",
              "      <td>270893</td>\n",
              "      <td>720056</td>\n",
              "      <td>384965</td>\n",
              "      <td>18415156832118</td>\n",
              "      <td>1.272835239381E+20</td>\n",
              "      <td>0.349</td>\n",
              "      <td>29613757834</td>\n",
              "      <td>2.631</td>\n",
              "      <td>0.712</td>\n",
              "      <td>9.796</td>\n",
              "      <td>612387</td>\n",
              "      <td>714.99</td>\n",
              "      <td>101046</td>\n",
              "      <td>NaN</td>\n",
              "      <td>823793</td>\n",
              "      <td>15.177</td>\n",
              "      <td>1.605</td>\n",
              "      <td>18818781.25</td>\n",
              "      <td>4.500074e+07</td>\n",
              "      <td>48306.7</td>\n",
              "    </tr>\n",
              "    <tr>\n",
              "      <th>3182</th>\n",
              "      <td>2021-09-18</td>\n",
              "      <td>47283.9</td>\n",
              "      <td>48761.0</td>\n",
              "      <td>47070.5</td>\n",
              "      <td>48306.7</td>\n",
              "      <td>227506</td>\n",
              "      <td>563189</td>\n",
              "      <td>248478</td>\n",
              "      <td>18415156832118</td>\n",
              "      <td>1.4285050981775E+20</td>\n",
              "      <td>0.331</td>\n",
              "      <td>19832657077</td>\n",
              "      <td>2.457</td>\n",
              "      <td>0.572</td>\n",
              "      <td>9.29</td>\n",
              "      <td>638205</td>\n",
              "      <td>593.076</td>\n",
              "      <td>82649</td>\n",
              "      <td>NaN</td>\n",
              "      <td>701986</td>\n",
              "      <td>15.185</td>\n",
              "      <td>1.183</td>\n",
              "      <td>18819662.50</td>\n",
              "      <td>4.781768e+07</td>\n",
              "      <td>47328.0</td>\n",
              "    </tr>\n",
              "  </tbody>\n",
              "</table>\n",
              "<p>3183 rows × 25 columns</p>\n",
              "</div>"
            ],
            "text/plain": [
              "           Date  opening_price  ...  miner_revenue  next_day_closing_price\n",
              "0    2013-01-01           13.5  ...   5.264860e+04                    13.3\n",
              "1    2013-01-02           13.3  ...   5.486525e+04                    13.4\n",
              "2    2013-01-03           13.3  ...   4.811833e+04                    13.5\n",
              "3    2013-01-04           13.4  ...   5.087274e+04                    13.4\n",
              "4    2013-01-05           13.5  ...   5.139673e+04                    13.4\n",
              "...         ...            ...  ...            ...                     ...\n",
              "3178 2021-09-14        44950.2  ...   4.946986e+07                 48130.6\n",
              "3179 2021-09-15        47070.8  ...   4.302687e+07                 47748.0\n",
              "3180 2021-09-16        48132.3  ...   4.144786e+07                 47282.8\n",
              "3181 2021-09-17        47748.2  ...   4.500074e+07                 48306.7\n",
              "3182 2021-09-18        47283.9  ...   4.781768e+07                 47328.0\n",
              "\n",
              "[3183 rows x 25 columns]"
            ]
          },
          "metadata": {},
          "execution_count": 106
        }
      ]
    },
    {
      "cell_type": "markdown",
      "metadata": {
        "id": "QGkSyUCxnG0l"
      },
      "source": [
        "## Missing Value Imputation"
      ]
    },
    {
      "cell_type": "code",
      "metadata": {
        "colab": {
          "base_uri": "https://localhost:8080/",
          "height": 819
        },
        "id": "S0fSPbpMnPAp",
        "outputId": "8050b829-004d-4e56-aefd-5653e175466b"
      },
      "source": [
        "missing_values = pd.DataFrame(final_df.isna().sum(),columns=['missing_count'])\n",
        "missing_values.sort_values(by='missing_count',ascending=False)"
      ],
      "execution_count": null,
      "outputs": [
        {
          "output_type": "execute_result",
          "data": {
            "text/html": [
              "<div>\n",
              "<style scoped>\n",
              "    .dataframe tbody tr th:only-of-type {\n",
              "        vertical-align: middle;\n",
              "    }\n",
              "\n",
              "    .dataframe tbody tr th {\n",
              "        vertical-align: top;\n",
              "    }\n",
              "\n",
              "    .dataframe thead th {\n",
              "        text-align: right;\n",
              "    }\n",
              "</style>\n",
              "<table border=\"1\" class=\"dataframe\">\n",
              "  <thead>\n",
              "    <tr style=\"text-align: right;\">\n",
              "      <th></th>\n",
              "      <th>missing_count</th>\n",
              "    </tr>\n",
              "  </thead>\n",
              "  <tbody>\n",
              "    <tr>\n",
              "      <th>tweets</th>\n",
              "      <td>519</td>\n",
              "    </tr>\n",
              "    <tr>\n",
              "      <th>active_addresses</th>\n",
              "      <td>22</td>\n",
              "    </tr>\n",
              "    <tr>\n",
              "      <th>google_trends</th>\n",
              "      <td>8</td>\n",
              "    </tr>\n",
              "    <tr>\n",
              "      <th>top100_to_total_percentage</th>\n",
              "      <td>6</td>\n",
              "    </tr>\n",
              "    <tr>\n",
              "      <th>avg_block_time</th>\n",
              "      <td>1</td>\n",
              "    </tr>\n",
              "    <tr>\n",
              "      <th>Date</th>\n",
              "      <td>0</td>\n",
              "    </tr>\n",
              "    <tr>\n",
              "      <th>median_transaction_fees</th>\n",
              "      <td>0</td>\n",
              "    </tr>\n",
              "    <tr>\n",
              "      <th>miner_revenue</th>\n",
              "      <td>0</td>\n",
              "    </tr>\n",
              "    <tr>\n",
              "      <th>number_of_coins_in_circulation</th>\n",
              "      <td>0</td>\n",
              "    </tr>\n",
              "    <tr>\n",
              "      <th>avg_fee_to_reward</th>\n",
              "      <td>0</td>\n",
              "    </tr>\n",
              "    <tr>\n",
              "      <th>median_transaction_value</th>\n",
              "      <td>0</td>\n",
              "    </tr>\n",
              "    <tr>\n",
              "      <th>avg_transaction_value</th>\n",
              "      <td>0</td>\n",
              "    </tr>\n",
              "    <tr>\n",
              "      <th>avg_transaction_fees</th>\n",
              "      <td>0</td>\n",
              "    </tr>\n",
              "    <tr>\n",
              "      <th>opening_price</th>\n",
              "      <td>0</td>\n",
              "    </tr>\n",
              "    <tr>\n",
              "      <th>sent_coins_in_usd</th>\n",
              "      <td>0</td>\n",
              "    </tr>\n",
              "    <tr>\n",
              "      <th>mining_profitability</th>\n",
              "      <td>0</td>\n",
              "    </tr>\n",
              "    <tr>\n",
              "      <th>avg_hashrate</th>\n",
              "      <td>0</td>\n",
              "    </tr>\n",
              "    <tr>\n",
              "      <th>avg_mining_difficulty</th>\n",
              "      <td>0</td>\n",
              "    </tr>\n",
              "    <tr>\n",
              "      <th>sent_by_adress</th>\n",
              "      <td>0</td>\n",
              "    </tr>\n",
              "    <tr>\n",
              "      <th>avg_block_size</th>\n",
              "      <td>0</td>\n",
              "    </tr>\n",
              "    <tr>\n",
              "      <th>transactions_in_blockchain</th>\n",
              "      <td>0</td>\n",
              "    </tr>\n",
              "    <tr>\n",
              "      <th>closing_price</th>\n",
              "      <td>0</td>\n",
              "    </tr>\n",
              "    <tr>\n",
              "      <th>lowest_price</th>\n",
              "      <td>0</td>\n",
              "    </tr>\n",
              "    <tr>\n",
              "      <th>highest_price</th>\n",
              "      <td>0</td>\n",
              "    </tr>\n",
              "    <tr>\n",
              "      <th>next_day_closing_price</th>\n",
              "      <td>0</td>\n",
              "    </tr>\n",
              "  </tbody>\n",
              "</table>\n",
              "</div>"
            ],
            "text/plain": [
              "                                missing_count\n",
              "tweets                                    519\n",
              "active_addresses                           22\n",
              "google_trends                               8\n",
              "top100_to_total_percentage                  6\n",
              "avg_block_time                              1\n",
              "Date                                        0\n",
              "median_transaction_fees                     0\n",
              "miner_revenue                               0\n",
              "number_of_coins_in_circulation              0\n",
              "avg_fee_to_reward                           0\n",
              "median_transaction_value                    0\n",
              "avg_transaction_value                       0\n",
              "avg_transaction_fees                        0\n",
              "opening_price                               0\n",
              "sent_coins_in_usd                           0\n",
              "mining_profitability                        0\n",
              "avg_hashrate                                0\n",
              "avg_mining_difficulty                       0\n",
              "sent_by_adress                              0\n",
              "avg_block_size                              0\n",
              "transactions_in_blockchain                  0\n",
              "closing_price                               0\n",
              "lowest_price                                0\n",
              "highest_price                               0\n",
              "next_day_closing_price                      0"
            ]
          },
          "metadata": {},
          "execution_count": 107
        }
      ]
    },
    {
      "cell_type": "code",
      "metadata": {
        "colab": {
          "base_uri": "https://localhost:8080/",
          "height": 324
        },
        "id": "d1GvlWhfgBy2",
        "outputId": "3b9e60fd-13c9-4efe-9ed8-786901187592"
      },
      "source": [
        "final_df['tweets'].fillna(final_df['tweets'].rolling(40, min_periods=1).mean()).bfill().astype(float).plot(x=final_df['Date'],y='tweets',figsize=(25,5),grid=True)\n",
        "for i in list(final_df.loc[pd.isna(final_df['tweets']), :].index):\n",
        "    plt.axvline(x=i,color='r',alpha=0.1)\n",
        "plt.ylabel('n_tweets')\n",
        "plt.title('Date vs n_tweets(with highlighted imputation)')\n",
        "plt.show()\n",
        "final_df['tweets'] = final_df['tweets'].fillna(final_df['tweets'].rolling(40, min_periods=1).mean()).bfill()"
      ],
      "execution_count": null,
      "outputs": [
        {
          "output_type": "display_data",
          "data": {
            "image/png": "[encoded data removed]",
            "text/plain": [
              "<Figure size 1800x360 with 1 Axes>"
            ]
          },
          "metadata": {
            "needs_background": "light"
          }
        }
      ]
    },
    {
      "cell_type": "code",
      "metadata": {
        "colab": {
          "base_uri": "https://localhost:8080/",
          "height": 329
        },
        "id": "sjpufKs2lGpJ",
        "outputId": "3e82c233-5dcd-4a8a-d07f-708dbfe7cc5b"
      },
      "source": [
        "final_df['active_addresses'].fillna(final_df['active_addresses'].rolling(14, min_periods=1).mean()).astype(float).plot(x=final_df['Date'],y='active_addresses',figsize=(25,5),grid=True)\n",
        "for i in list(final_df.loc[pd.isna(final_df['active_addresses']),:].index):\n",
        "    plt.axvline(x=i,color='r',alpha=0.1)\n",
        "plt.ylabel('number of active adresses')\n",
        "plt.title('Date vs number of active adresses(with highlighted imputation)')\n",
        "plt.show()\n",
        "final_df['active_addresses'] = final_df['active_addresses'].fillna(final_df['active_addresses'].rolling(14, min_periods=1).mean())"
      ],
      "execution_count": null,
      "outputs": [
        {
          "output_type": "display_data",
          "data": {
            "image/png": "[encoded data removed]",
            "text/plain": [
              "<Figure size 1800x360 with 1 Axes>"
            ]
          },
          "metadata": {
            "needs_background": "light"
          }
        }
      ]
    },
    {
      "cell_type": "code",
      "metadata": {
        "colab": {
          "base_uri": "https://localhost:8080/",
          "height": 328
        },
        "id": "BAEPPASsjeHf",
        "outputId": "72195628-6761-4e2c-d677-7e29d200c480"
      },
      "source": [
        "final_df['google_trends'].fillna(final_df['google_trends'].rolling(14, min_periods=1).mean()).astype(float).plot(x=final_df['Date'],y='google_trends',figsize=(25,5),grid=True)\n",
        "for i in list(final_df.loc[pd.isna(final_df['google_trends']), :].index):\n",
        "    plt.axvline(x=i,color='r',alpha=0.1)\n",
        "plt.ylabel('google_trends')\n",
        "plt.title('Date vs google_trends(with highlighted imputation)')\n",
        "plt.show()\n",
        "final_df['google_trends'] = final_df['google_trends'].fillna(final_df['google_trends'].rolling(14, min_periods=1).mean())"
      ],
      "execution_count": null,
      "outputs": [
        {
          "output_type": "display_data",
          "data": {
            "image/png": "[encoded data removed]",
            "text/plain": [
              "<Figure size 1800x360 with 1 Axes>"
            ]
          },
          "metadata": {
            "needs_background": "light"
          }
        }
      ]
    },
    {
      "cell_type": "code",
      "metadata": {
        "colab": {
          "base_uri": "https://localhost:8080/",
          "height": 330
        },
        "id": "CP3rvKpmlwIQ",
        "outputId": "cf509300-628e-4dae-c53f-cf158dd05336"
      },
      "source": [
        "final_df['top100_to_total_percentage'].fillna(final_df['top100_to_total_percentage'].rolling(7, min_periods=1).mean()).astype(float).plot(x=final_df['Date'],y='top100_to_total_percentage',figsize=(25,5),grid=True)\n",
        "for i in list(final_df.loc[pd.isna(final_df['top100_to_total_percentage']), :].index):\n",
        "    plt.axvline(x=i,color='r',alpha=0.1)\n",
        "plt.ylabel('top100_to_total_percentage')\n",
        "plt.title('Date vs top100_to_total_percentage(with highlighted imputation)')\n",
        "plt.show()\n",
        "final_df['top100_to_total_percentage'] = final_df['top100_to_total_percentage'].fillna(final_df['top100_to_total_percentage'].rolling(7, min_periods=1).mean())"
      ],
      "execution_count": null,
      "outputs": [
        {
          "output_type": "display_data",
          "data": {
            "image/png": "[encoded data removed]",
            "text/plain": [
              "<Figure size 1800x360 with 1 Axes>"
            ]
          },
          "metadata": {
            "needs_background": "light"
          }
        }
      ]
    },
    {
      "cell_type": "code",
      "metadata": {
        "colab": {
          "base_uri": "https://localhost:8080/",
          "height": 327
        },
        "id": "3l57slLQmZil",
        "outputId": "c6b2511d-2126-44be-a4ea-ce9b178ae5eb"
      },
      "source": [
        "final_df['avg_block_time'].fillna(final_df['avg_block_time'].rolling(7, min_periods=1).mean()).astype(float).plot(x=final_df['Date'],y='avg_block_time',figsize=(25,5),grid=True)\n",
        "for i in list(final_df.loc[pd.isna(final_df['avg_block_time']), :].index):\n",
        "    plt.axvline(x=i,color='r',alpha=0.1)\n",
        "plt.ylabel('avg_block_time')\n",
        "plt.title('Date vs avg_block_time(with highlighted imputation)')\n",
        "plt.show()\n",
        "final_df['avg_block_time'] = final_df['avg_block_time'].fillna(final_df['avg_block_time'].rolling(7, min_periods=1).mean())"
      ],
      "execution_count": null,
      "outputs": [
        {
          "output_type": "display_data",
          "data": {
            "image/png": "[encoded data removed]",
            "text/plain": [
              "<Figure size 1800x360 with 1 Axes>"
            ]
          },
          "metadata": {
            "needs_background": "light"
          }
        }
      ]
    },
    {
      "cell_type": "code",
      "metadata": {
        "colab": {
          "base_uri": "https://localhost:8080/",
          "height": 819
        },
        "id": "kCdu6vsy3Dxd",
        "outputId": "51df7109-ca45-48b5-93da-7fcd4ad080f5"
      },
      "source": [
        "missing_values = pd.DataFrame(final_df.isna().sum(),columns=['missing_count'])\n",
        "missing_values.sort_values(by='missing_count',ascending=False)"
      ],
      "execution_count": null,
      "outputs": [
        {
          "output_type": "execute_result",
          "data": {
            "text/html": [
              "<div>\n",
              "<style scoped>\n",
              "    .dataframe tbody tr th:only-of-type {\n",
              "        vertical-align: middle;\n",
              "    }\n",
              "\n",
              "    .dataframe tbody tr th {\n",
              "        vertical-align: top;\n",
              "    }\n",
              "\n",
              "    .dataframe thead th {\n",
              "        text-align: right;\n",
              "    }\n",
              "</style>\n",
              "<table border=\"1\" class=\"dataframe\">\n",
              "  <thead>\n",
              "    <tr style=\"text-align: right;\">\n",
              "      <th></th>\n",
              "      <th>missing_count</th>\n",
              "    </tr>\n",
              "  </thead>\n",
              "  <tbody>\n",
              "    <tr>\n",
              "      <th>Date</th>\n",
              "      <td>0</td>\n",
              "    </tr>\n",
              "    <tr>\n",
              "      <th>median_transaction_fees</th>\n",
              "      <td>0</td>\n",
              "    </tr>\n",
              "    <tr>\n",
              "      <th>miner_revenue</th>\n",
              "      <td>0</td>\n",
              "    </tr>\n",
              "    <tr>\n",
              "      <th>number_of_coins_in_circulation</th>\n",
              "      <td>0</td>\n",
              "    </tr>\n",
              "    <tr>\n",
              "      <th>avg_fee_to_reward</th>\n",
              "      <td>0</td>\n",
              "    </tr>\n",
              "    <tr>\n",
              "      <th>top100_to_total_percentage</th>\n",
              "      <td>0</td>\n",
              "    </tr>\n",
              "    <tr>\n",
              "      <th>active_addresses</th>\n",
              "      <td>0</td>\n",
              "    </tr>\n",
              "    <tr>\n",
              "      <th>google_trends</th>\n",
              "      <td>0</td>\n",
              "    </tr>\n",
              "    <tr>\n",
              "      <th>tweets</th>\n",
              "      <td>0</td>\n",
              "    </tr>\n",
              "    <tr>\n",
              "      <th>median_transaction_value</th>\n",
              "      <td>0</td>\n",
              "    </tr>\n",
              "    <tr>\n",
              "      <th>avg_transaction_value</th>\n",
              "      <td>0</td>\n",
              "    </tr>\n",
              "    <tr>\n",
              "      <th>avg_block_time</th>\n",
              "      <td>0</td>\n",
              "    </tr>\n",
              "    <tr>\n",
              "      <th>avg_transaction_fees</th>\n",
              "      <td>0</td>\n",
              "    </tr>\n",
              "    <tr>\n",
              "      <th>opening_price</th>\n",
              "      <td>0</td>\n",
              "    </tr>\n",
              "    <tr>\n",
              "      <th>sent_coins_in_usd</th>\n",
              "      <td>0</td>\n",
              "    </tr>\n",
              "    <tr>\n",
              "      <th>mining_profitability</th>\n",
              "      <td>0</td>\n",
              "    </tr>\n",
              "    <tr>\n",
              "      <th>avg_hashrate</th>\n",
              "      <td>0</td>\n",
              "    </tr>\n",
              "    <tr>\n",
              "      <th>avg_mining_difficulty</th>\n",
              "      <td>0</td>\n",
              "    </tr>\n",
              "    <tr>\n",
              "      <th>sent_by_adress</th>\n",
              "      <td>0</td>\n",
              "    </tr>\n",
              "    <tr>\n",
              "      <th>avg_block_size</th>\n",
              "      <td>0</td>\n",
              "    </tr>\n",
              "    <tr>\n",
              "      <th>transactions_in_blockchain</th>\n",
              "      <td>0</td>\n",
              "    </tr>\n",
              "    <tr>\n",
              "      <th>closing_price</th>\n",
              "      <td>0</td>\n",
              "    </tr>\n",
              "    <tr>\n",
              "      <th>lowest_price</th>\n",
              "      <td>0</td>\n",
              "    </tr>\n",
              "    <tr>\n",
              "      <th>highest_price</th>\n",
              "      <td>0</td>\n",
              "    </tr>\n",
              "    <tr>\n",
              "      <th>next_day_closing_price</th>\n",
              "      <td>0</td>\n",
              "    </tr>\n",
              "  </tbody>\n",
              "</table>\n",
              "</div>"
            ],
            "text/plain": [
              "                                missing_count\n",
              "Date                                        0\n",
              "median_transaction_fees                     0\n",
              "miner_revenue                               0\n",
              "number_of_coins_in_circulation              0\n",
              "avg_fee_to_reward                           0\n",
              "top100_to_total_percentage                  0\n",
              "active_addresses                            0\n",
              "google_trends                               0\n",
              "tweets                                      0\n",
              "median_transaction_value                    0\n",
              "avg_transaction_value                       0\n",
              "avg_block_time                              0\n",
              "avg_transaction_fees                        0\n",
              "opening_price                               0\n",
              "sent_coins_in_usd                           0\n",
              "mining_profitability                        0\n",
              "avg_hashrate                                0\n",
              "avg_mining_difficulty                       0\n",
              "sent_by_adress                              0\n",
              "avg_block_size                              0\n",
              "transactions_in_blockchain                  0\n",
              "closing_price                               0\n",
              "lowest_price                                0\n",
              "highest_price                               0\n",
              "next_day_closing_price                      0"
            ]
          },
          "metadata": {},
          "execution_count": 113
        }
      ]
    },
    {
      "cell_type": "code",
      "metadata": {
        "id": "E5Wv7IWn5Yd0"
      },
      "source": [
        "final_df.to_csv('/content/drive/MyDrive/Self Case studies/CS01 Bitcoin Price Forecasting/Data/01 Raw imputed data /final_data_imputed_20210919.csv',index=False)"
      ],
      "execution_count": null,
      "outputs": []
    }
  ]
}